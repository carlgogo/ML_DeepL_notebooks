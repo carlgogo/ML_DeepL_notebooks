{
 "cells": [
  {
   "cell_type": "markdown",
   "metadata": {},
   "source": [
    "# CIFAR10"
   ]
  },
  {
   "cell_type": "markdown",
   "metadata": {},
   "source": [
    "Train a simple deep CNN on the CIFAR10 small images dataset.\n",
    "\n",
    "GPU run command:\n",
    "    THEANO_FLAGS=mode=FAST_RUN,device=gpu,floatX=float32 python cifar10_cnn.py\n",
    "\n",
    "It gets down to 0.65 test logloss in 25 epochs, and down to 0.55 after 50 epochs.\n",
    "(it's still underfitting at that point, though).\n",
    "Note: the data was pickled with Python 2, and some encoding issues might prevent you\n",
    "from loading it in Python 3. You might have to load it in Python 2,\n",
    "save it in a different format, load it in Python 3 and repickle it."
   ]
  },
  {
   "cell_type": "code",
   "execution_count": 1,
   "metadata": {
    "collapsed": true
   },
   "outputs": [],
   "source": [
    "import os\n",
    "os.environ[\"THEANO_FLAGS\"] = \"mode=FAST_RUN,device=gpu,floatX=float32\""
   ]
  },
  {
   "cell_type": "code",
   "execution_count": 2,
   "metadata": {
    "collapsed": false
   },
   "outputs": [
    {
     "name": "stderr",
     "output_type": "stream",
     "text": [
      "Using Theano backend.\n",
      "Using gpu device 0: GeForce GTX 660 (CNMeM is disabled, cuDNN 5005)\n"
     ]
    }
   ],
   "source": [
    "from __future__ import print_function\n",
    "from keras.datasets import cifar10\n",
    "from keras.preprocessing.image import ImageDataGenerator\n",
    "from keras.models import Sequential\n",
    "from keras.layers import Dense, Dropout, Activation, Flatten\n",
    "from keras.layers import Convolution2D, MaxPooling2D\n",
    "from keras.optimizers import SGD\n",
    "from keras.utils import np_utils"
   ]
  },
  {
   "cell_type": "code",
   "execution_count": 7,
   "metadata": {
    "collapsed": true
   },
   "outputs": [],
   "source": [
    "batch_size = 32\n",
    "nb_classes = 10\n",
    "nb_epoch = 50\n",
    "\n",
    "# input image dimensions\n",
    "img_rows, img_cols = 32, 32\n",
    "# the CIFAR10 images are RGB\n",
    "img_channels = 3"
   ]
  },
  {
   "cell_type": "code",
   "execution_count": 8,
   "metadata": {
    "collapsed": false
   },
   "outputs": [
    {
     "name": "stdout",
     "output_type": "stream",
     "text": [
      "X_train shape: (50000, 3, 32, 32)\n",
      "50000 train samples\n",
      "10000 test samples\n"
     ]
    }
   ],
   "source": [
    "# the data, shuffled and split between train and test sets\n",
    "(X_train, y_train), (X_test, y_test) = cifar10.load_data()\n",
    "print('X_train shape:', X_train.shape)\n",
    "print(X_train.shape[0], 'train samples')\n",
    "print(X_test.shape[0], 'test samples')\n",
    "\n",
    "X_train = X_train.astype('float32')\n",
    "X_test = X_test.astype('float32')\n",
    "X_train /= 255\n",
    "X_test /= 255\n",
    "\n",
    "# convert class vectors to binary class matrices\n",
    "Y_train = np_utils.to_categorical(y_train, nb_classes)\n",
    "Y_test = np_utils.to_categorical(y_test, nb_classes)"
   ]
  },
  {
   "cell_type": "code",
   "execution_count": 9,
   "metadata": {
    "collapsed": true
   },
   "outputs": [],
   "source": [
    "model = Sequential()\n",
    "\n",
    "model.add(Convolution2D(32, 3, 3, border_mode='same',\n",
    "                        input_shape=(img_channels, img_rows, img_cols)))\n",
    "model.add(Activation('relu'))\n",
    "model.add(Convolution2D(32, 3, 3))\n",
    "model.add(Activation('relu'))\n",
    "model.add(MaxPooling2D(pool_size=(2, 2)))\n",
    "model.add(Dropout(0.25))\n",
    "\n",
    "model.add(Convolution2D(64, 3, 3, border_mode='same'))\n",
    "model.add(Activation('relu'))\n",
    "model.add(Convolution2D(64, 3, 3))\n",
    "model.add(Activation('relu'))\n",
    "model.add(MaxPooling2D(pool_size=(2, 2)))\n",
    "model.add(Dropout(0.25))\n",
    "\n",
    "model.add(Flatten())\n",
    "model.add(Dense(512))\n",
    "model.add(Activation('relu'))\n",
    "model.add(Dropout(0.5))\n",
    "model.add(Dense(nb_classes))\n",
    "model.add(Activation('softmax'))"
   ]
  },
  {
   "cell_type": "code",
   "execution_count": 10,
   "metadata": {
    "collapsed": true
   },
   "outputs": [],
   "source": [
    "# let's train the model using SGD + momentum (how original).\n",
    "sgd = SGD(lr=0.01, decay=1e-6, momentum=0.9, nesterov=True)\n",
    "model.compile(loss='categorical_crossentropy',\n",
    "              optimizer=sgd,\n",
    "              metrics=['accuracy'])"
   ]
  },
  {
   "cell_type": "code",
   "execution_count": 11,
   "metadata": {
    "collapsed": false
   },
   "outputs": [
    {
     "name": "stdout",
     "output_type": "stream",
     "text": [
      "Not using data augmentation.\n",
      "Train on 50000 samples, validate on 10000 samples\n",
      "Epoch 1/50\n",
      "31s - loss: 1.7239 - acc: 0.3637 - val_loss: 1.3372 - val_acc: 0.5230\n",
      "Epoch 2/50\n",
      "31s - loss: 1.3256 - acc: 0.5218 - val_loss: 1.1659 - val_acc: 0.5830\n",
      "Epoch 3/50\n",
      "31s - loss: 1.1679 - acc: 0.5819 - val_loss: 1.0149 - val_acc: 0.6444\n",
      "Epoch 4/50\n",
      "31s - loss: 1.0545 - acc: 0.6263 - val_loss: 0.9089 - val_acc: 0.6824\n",
      "Epoch 5/50\n",
      "31s - loss: 0.9680 - acc: 0.6575 - val_loss: 0.8671 - val_acc: 0.6947\n",
      "Epoch 6/50\n",
      "31s - loss: 0.9050 - acc: 0.6813 - val_loss: 0.8470 - val_acc: 0.7075\n",
      "Epoch 7/50\n",
      "31s - loss: 0.8585 - acc: 0.6999 - val_loss: 0.7710 - val_acc: 0.7371\n",
      "Epoch 8/50\n",
      "31s - loss: 0.8145 - acc: 0.7157 - val_loss: 0.7717 - val_acc: 0.7336\n",
      "Epoch 9/50\n",
      "31s - loss: 0.7919 - acc: 0.7242 - val_loss: 0.7943 - val_acc: 0.7285\n",
      "Epoch 10/50\n",
      "31s - loss: 0.7645 - acc: 0.7332 - val_loss: 0.7762 - val_acc: 0.7377\n",
      "Epoch 11/50\n",
      "31s - loss: 0.7409 - acc: 0.7415 - val_loss: 0.7441 - val_acc: 0.7472\n",
      "Epoch 12/50\n",
      "31s - loss: 0.7248 - acc: 0.7457 - val_loss: 0.7389 - val_acc: 0.7478\n",
      "Epoch 13/50\n",
      "31s - loss: 0.7087 - acc: 0.7535 - val_loss: 0.7082 - val_acc: 0.7588\n",
      "Epoch 14/50\n",
      "31s - loss: 0.6961 - acc: 0.7580 - val_loss: 0.6909 - val_acc: 0.7642\n",
      "Epoch 15/50\n",
      "31s - loss: 0.6728 - acc: 0.7662 - val_loss: 0.7009 - val_acc: 0.7635\n",
      "Epoch 16/50\n",
      "31s - loss: 0.6694 - acc: 0.7677 - val_loss: 0.6900 - val_acc: 0.7619\n",
      "Epoch 17/50\n",
      "31s - loss: 0.6594 - acc: 0.7700 - val_loss: 0.7182 - val_acc: 0.7600\n",
      "Epoch 18/50\n",
      "31s - loss: 0.6524 - acc: 0.7737 - val_loss: 0.7972 - val_acc: 0.7266\n",
      "Epoch 19/50\n",
      "31s - loss: 0.6361 - acc: 0.7775 - val_loss: 0.7491 - val_acc: 0.7531\n",
      "Epoch 20/50\n",
      "31s - loss: 0.6358 - acc: 0.7811 - val_loss: 0.7407 - val_acc: 0.7524\n",
      "Epoch 21/50\n",
      "31s - loss: 0.6303 - acc: 0.7822 - val_loss: 0.6887 - val_acc: 0.7652\n",
      "Epoch 22/50\n",
      "31s - loss: 0.6176 - acc: 0.7873 - val_loss: 0.7134 - val_acc: 0.7611\n",
      "Epoch 23/50\n",
      "31s - loss: 0.6208 - acc: 0.7865 - val_loss: 0.7067 - val_acc: 0.7662\n",
      "Epoch 24/50\n",
      "31s - loss: 0.6178 - acc: 0.7857 - val_loss: 0.7025 - val_acc: 0.7654\n",
      "Epoch 25/50\n",
      "31s - loss: 0.6119 - acc: 0.7900 - val_loss: 0.7175 - val_acc: 0.7583\n",
      "Epoch 26/50\n",
      "31s - loss: 0.6033 - acc: 0.7929 - val_loss: 0.6954 - val_acc: 0.7669\n",
      "Epoch 27/50\n",
      "31s - loss: 0.5938 - acc: 0.7963 - val_loss: 0.7080 - val_acc: 0.7611\n",
      "Epoch 28/50\n",
      "31s - loss: 0.5954 - acc: 0.7964 - val_loss: 0.7312 - val_acc: 0.7663\n",
      "Epoch 29/50\n",
      "31s - loss: 0.5887 - acc: 0.7991 - val_loss: 0.6917 - val_acc: 0.7730\n",
      "Epoch 30/50\n",
      "31s - loss: 0.5832 - acc: 0.8004 - val_loss: 0.6973 - val_acc: 0.7699\n",
      "Epoch 31/50\n",
      "31s - loss: 0.5851 - acc: 0.7977 - val_loss: 0.7076 - val_acc: 0.7664\n",
      "Epoch 32/50\n",
      "31s - loss: 0.5740 - acc: 0.8031 - val_loss: 0.6938 - val_acc: 0.7713\n",
      "Epoch 33/50\n",
      "31s - loss: 0.5824 - acc: 0.8024 - val_loss: 0.7167 - val_acc: 0.7704\n",
      "Epoch 34/50\n",
      "31s - loss: 0.5905 - acc: 0.7988 - val_loss: 0.7306 - val_acc: 0.7637\n",
      "Epoch 35/50\n",
      "31s - loss: 0.5862 - acc: 0.8004 - val_loss: 0.7148 - val_acc: 0.7652\n",
      "Epoch 36/50\n",
      "31s - loss: 0.5733 - acc: 0.8047 - val_loss: 0.7277 - val_acc: 0.7644\n",
      "Epoch 37/50\n",
      "31s - loss: 0.5704 - acc: 0.8068 - val_loss: 0.7075 - val_acc: 0.7731\n",
      "Epoch 38/50\n",
      "31s - loss: 0.5740 - acc: 0.8074 - val_loss: 0.7043 - val_acc: 0.7707\n",
      "Epoch 39/50\n",
      "31s - loss: 0.5707 - acc: 0.8067 - val_loss: 0.6940 - val_acc: 0.7713\n",
      "Epoch 40/50\n",
      "31s - loss: 0.5773 - acc: 0.8066 - val_loss: 0.7001 - val_acc: 0.7751\n",
      "Epoch 41/50\n",
      "31s - loss: 0.5767 - acc: 0.8044 - val_loss: 0.7873 - val_acc: 0.7517\n",
      "Epoch 42/50\n",
      "31s - loss: 0.5874 - acc: 0.8038 - val_loss: 0.7375 - val_acc: 0.7584\n",
      "Epoch 43/50\n",
      "31s - loss: 0.5832 - acc: 0.8025 - val_loss: 0.7226 - val_acc: 0.7687\n",
      "Epoch 44/50\n",
      "31s - loss: 0.5769 - acc: 0.8060 - val_loss: 0.7052 - val_acc: 0.7667\n",
      "Epoch 45/50\n",
      "31s - loss: 0.5751 - acc: 0.8051 - val_loss: 0.7493 - val_acc: 0.7574\n",
      "Epoch 46/50\n",
      "31s - loss: 0.5643 - acc: 0.8110 - val_loss: 0.7176 - val_acc: 0.7692\n",
      "Epoch 47/50\n",
      "31s - loss: 0.5743 - acc: 0.8060 - val_loss: 0.7124 - val_acc: 0.7616\n",
      "Epoch 48/50\n",
      "31s - loss: 0.5787 - acc: 0.8074 - val_loss: 0.7406 - val_acc: 0.7576\n",
      "Epoch 49/50\n",
      "31s - loss: 0.5721 - acc: 0.8091 - val_loss: 0.7605 - val_acc: 0.7530\n",
      "Epoch 50/50\n",
      "31s - loss: 0.5808 - acc: 0.8054 - val_loss: 0.7246 - val_acc: 0.7629\n"
     ]
    }
   ],
   "source": [
    "%%time \n",
    "\n",
    "data_augmentation = False\n",
    "\n",
    "if not data_augmentation:\n",
    "    print('Not using data augmentation.')\n",
    "    model.fit(X_train, Y_train,\n",
    "              batch_size=batch_size,\n",
    "              nb_epoch=nb_epoch,\n",
    "              validation_data=(X_test, Y_test),\n",
    "              shuffle=True, verbose=2)\n",
    "    \n",
    "else:\n",
    "    print('Using real-time data augmentation.')\n",
    "\n",
    "    # this will do preprocessing and realtime data augmentation\n",
    "    datagen = ImageDataGenerator(\n",
    "        featurewise_center=False,  # set input mean to 0 over the dataset\n",
    "        samplewise_center=False,  # set each sample mean to 0\n",
    "        featurewise_std_normalization=False,  # divide inputs by std of the dataset\n",
    "        samplewise_std_normalization=False,  # divide each input by its std\n",
    "        zca_whitening=False,  # apply ZCA whitening\n",
    "        rotation_range=0,  # randomly rotate images in the range (degrees, 0 to 180)\n",
    "        width_shift_range=0.1,  # randomly shift images horizontally (fraction of total width)\n",
    "        height_shift_range=0.1,  # randomly shift images vertically (fraction of total height)\n",
    "        horizontal_flip=True,  # randomly flip images\n",
    "        vertical_flip=False)  # randomly flip images\n",
    "\n",
    "    # compute quantities required for featurewise normalization\n",
    "    # (std, mean, and principal components if ZCA whitening is applied)\n",
    "    datagen.fit(X_train)\n",
    "\n",
    "    # fit the model on the batches generated by datagen.flow()\n",
    "    model.fit_generator(datagen.flow(X_train, Y_train,\n",
    "                        batch_size=batch_size),\n",
    "                        samples_per_epoch=X_train.shape[0],\n",
    "                        nb_epoch=nb_epoch,\n",
    "                        validation_data=(X_test, Y_test))"
   ]
  },
  {
   "cell_type": "code",
   "execution_count": 12,
   "metadata": {
    "collapsed": false
   },
   "outputs": [
    {
     "name": "stdout",
     "output_type": "stream",
     "text": [
      " 9984/10000 [============================>.] - ETA: 0s"
     ]
    }
   ],
   "source": [
    "score = model.evaluate(X_test, Y_test, verbose=1)"
   ]
  },
  {
   "cell_type": "code",
   "execution_count": 15,
   "metadata": {
    "collapsed": false
   },
   "outputs": [
    {
     "name": "stdout",
     "output_type": "stream",
     "text": [
      "Test score: 0.734846554756\n",
      "Test accuracy: 0.7602\n"
     ]
    }
   ],
   "source": [
    "print('Test score:', score[0])\n",
    "print('Test accuracy:', score[1])"
   ]
  },
  {
   "cell_type": "code",
   "execution_count": null,
   "metadata": {
    "collapsed": true
   },
   "outputs": [],
   "source": []
  }
 ],
 "metadata": {
  "kernelspec": {
   "display_name": "Python 2",
   "language": "python",
   "name": "python2"
  },
  "language_info": {
   "codemirror_mode": {
    "name": "ipython",
    "version": 2
   },
   "file_extension": ".py",
   "mimetype": "text/x-python",
   "name": "python",
   "nbconvert_exporter": "python",
   "pygments_lexer": "ipython2",
   "version": "2.7.11"
  }
 },
 "nbformat": 4,
 "nbformat_minor": 0
}
