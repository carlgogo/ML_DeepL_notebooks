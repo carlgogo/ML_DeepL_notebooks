{
 "cells": [
  {
   "cell_type": "code",
   "execution_count": 1,
   "metadata": {
    "collapsed": false
   },
   "outputs": [],
   "source": [
    "import os\n",
    "os.environ[\"THEANO_FLAGS\"] = \"mode=FAST_RUN,device=gpu,floatX=float32\""
   ]
  },
  {
   "cell_type": "code",
   "execution_count": 2,
   "metadata": {
    "collapsed": false
   },
   "outputs": [
    {
     "name": "stderr",
     "output_type": "stream",
     "text": [
      "Using Theano backend.\n",
      "Using gpu device 0: GeForce GTX 660 (CNMeM is disabled, cuDNN 5005)\n"
     ]
    }
   ],
   "source": [
    "import keras"
   ]
  },
  {
   "cell_type": "markdown",
   "metadata": {},
   "source": [
    "# MNIST"
   ]
  },
  {
   "cell_type": "markdown",
   "metadata": {},
   "source": [
    "About the dataset/problem: http://yann.lecun.com/exdb/mnist/"
   ]
  },
  {
   "cell_type": "markdown",
   "metadata": {},
   "source": [
    "Several tweaks and ideas:\n",
    "\n",
    "http://euler.stat.yale.edu/~tba3/stat665/lectures/lec18/notebook18.html\n",
    "\n",
    "Visualization of bad predictions, data augmentation, loading weights (VGG-19 Model), OverFeat, GoogLeNet, Batch Normalization, Pure convolution"
   ]
  },
  {
   "cell_type": "markdown",
   "metadata": {},
   "source": [
    "# Simple DNN"
   ]
  },
  {
   "cell_type": "markdown",
   "metadata": {},
   "source": [
    "https://github.com/wxs/keras-mnist-tutorial/blob/master/MNIST%20in%20Keras.ipynb\n",
    "\n",
    "Trains a simple deep NN on the MNIST dataset.\n",
    "Gets to 98.40% test accuracy after 20 epochs\n",
    "(there is *a lot* of margin for parameter tuning).\n",
    "2 seconds per epoch on a K520 GPU."
   ]
  },
  {
   "cell_type": "code",
   "execution_count": 264,
   "metadata": {
    "collapsed": true
   },
   "outputs": [],
   "source": [
    "from keras.datasets import mnist\n",
    "from keras.models import Sequential\n",
    "from keras.layers.core import Dense, Dropout, Activation\n",
    "from keras.optimizers import SGD, Adam, RMSprop\n",
    "from keras.utils import np_utils"
   ]
  },
  {
   "cell_type": "code",
   "execution_count": 265,
   "metadata": {
    "collapsed": false
   },
   "outputs": [
    {
     "name": "stdout",
     "output_type": "stream",
     "text": [
      "60000 train samples\n",
      "10000 test samples\n"
     ]
    }
   ],
   "source": [
    "# the data, shuffled and split between train and test sets\n",
    "(X_train, y_train), (X_test, y_test) = mnist.load_data()\n",
    "\n",
    "X_train = X_train.reshape(60000, 784)\n",
    "X_test = X_test.reshape(10000, 784)\n",
    "X_train = X_train.astype('float32')\n",
    "X_test = X_test.astype('float32')\n",
    "X_train /= 255\n",
    "X_test /= 255\n",
    "print(X_train.shape[0], 'train samples')\n",
    "print(X_test.shape[0], 'test samples')"
   ]
  },
  {
   "cell_type": "markdown",
   "metadata": {},
   "source": [
    "Here we'll do a simple 3 layer fully connected network.\n",
    "\n",
    "Keras is built on top of Theano (and now TensorFlow as well), both packages that allow you to define a computation graph in Python, which they then compile and run efficiently on the CPU or GPU without the overhead of the Python interpreter.\n",
    "\n",
    "When compiing a model, Keras asks you to specify your loss function and your optimizer. The loss function we'll use here is called categorical crossentropy, and is a loss function well-suited to comparing two probability distributions.\n",
    "\n",
    "Here our predictions are probability distributions across the ten different digits (e.g. \"we're 80% confident this image is a 3, 10% sure it's an 8, 5% it's a 2, etc.\"), and the target is a probability distribution with 100% for the correct category, and 0 for everything else. The cross-entropy is a measure of how different your predicted distribution is from the target distribution.\n",
    "https://en.wikipedia.org/wiki/Cross_entropy\n",
    "\n",
    "The optimizer helps determine how quickly the model learns, how resistent it is to getting \"stuck\" or \"blowing up\". We won't discuss this in too much detail, but \"adam\" is often a good choice (developed here at U of T)."
   ]
  },
  {
   "cell_type": "code",
   "execution_count": 266,
   "metadata": {
    "collapsed": false
   },
   "outputs": [],
   "source": [
    "model = Sequential()\n",
    "model.add(Dense(512, input_shape=(784,)))\n",
    "model.add(Activation('relu'))\n",
    "# An \"activation\" is just a non-linear function applied to the output of the layer above. \n",
    "# Here, with a \"rectified linear unit\", we clamp all values below 0 to 0.\n",
    "model.add(Dropout(0.2))\n",
    "# Dropout helps protect the model from memorizing or \"overfitting\" the training data\n",
    "\n",
    "model.add(Dense(512))\n",
    "model.add(Activation('relu'))\n",
    "model.add(Dropout(0.2))\n",
    "model.add(Dense(10))\n",
    "model.add(Activation('softmax'))\n",
    "# This special \"softmax\" activation among other things,\n",
    "# ensures the output is a valid probaility distribution, that is\n",
    "# that its values are all non-negative and sum to 1.\n",
    "\n",
    "#model.summary()\n",
    "\n",
    "model.compile(loss='categorical_crossentropy', optimizer=Adam(), metrics=['accuracy'])"
   ]
  },
  {
   "cell_type": "markdown",
   "metadata": {},
   "source": [
    "This is the fun part: you can feed the training data loaded in earlier into this model and it will learn to classify digits"
   ]
  },
  {
   "cell_type": "code",
   "execution_count": 268,
   "metadata": {
    "collapsed": false,
    "scrolled": false
   },
   "outputs": [
    {
     "name": "stdout",
     "output_type": "stream",
     "text": [
      "Train on 60000 samples, validate on 10000 samples\n",
      "Epoch 1/10\n",
      "2s - loss: 0.0172 - acc: 0.9942 - val_loss: 0.0832 - val_acc: 0.9817\n",
      "Epoch 2/10\n",
      "2s - loss: 0.0158 - acc: 0.9949 - val_loss: 0.0847 - val_acc: 0.9820\n",
      "Epoch 3/10\n",
      "1s - loss: 0.0174 - acc: 0.9941 - val_loss: 0.0665 - val_acc: 0.9841\n",
      "Epoch 4/10\n",
      "2s - loss: 0.0145 - acc: 0.9952 - val_loss: 0.0850 - val_acc: 0.9828\n",
      "Epoch 5/10\n",
      "1s - loss: 0.0158 - acc: 0.9948 - val_loss: 0.0765 - val_acc: 0.9842\n",
      "Epoch 6/10\n",
      "2s - loss: 0.0143 - acc: 0.9953 - val_loss: 0.0868 - val_acc: 0.9817\n",
      "Epoch 7/10\n",
      "1s - loss: 0.0158 - acc: 0.9949 - val_loss: 0.0905 - val_acc: 0.9832\n",
      "Epoch 8/10\n",
      "1s - loss: 0.0126 - acc: 0.9961 - val_loss: 0.0881 - val_acc: 0.9825\n",
      "Epoch 9/10\n",
      "2s - loss: 0.0136 - acc: 0.9954 - val_loss: 0.0864 - val_acc: 0.9834\n",
      "Epoch 10/10\n",
      "2s - loss: 0.0141 - acc: 0.9954 - val_loss: 0.0942 - val_acc: 0.9825\n",
      "Test score: 0.0942367353918\n",
      "Test accuracy: 0.9825\n",
      "CPU times: user 15.1 s, sys: 5.23 s, total: 20.3 s\n",
      "Wall time: 20.3 s\n"
     ]
    }
   ],
   "source": [
    "%%time\n",
    "\n",
    "history = model.fit(X_train, Y_train, batch_size=batch_size, nb_epoch=10,\n",
    "                    verbose=2, validation_data=(X_test, Y_test))\n",
    "score = model.evaluate(X_test, Y_test, verbose=0)\n",
    "print('Test score:', score[0])\n",
    "print('Test accuracy:', score[1])"
   ]
  },
  {
   "cell_type": "markdown",
   "metadata": {},
   "source": [
    "### Checking misclassifications"
   ]
  },
  {
   "cell_type": "code",
   "execution_count": 357,
   "metadata": {
    "collapsed": false
   },
   "outputs": [],
   "source": [
    "from matplotlib.pyplot import *\n",
    "\n",
    "\n",
    "def inspect_classification_results(model, X_test, y_test):\n",
    "    # The predict_classes function outputs the highest probability class\n",
    "    # according to the trained classifier for each input example\n",
    "    predicted_classes = model.predict_classes(X_test, verbose=0)\n",
    "\n",
    "    # Check which items we got right / wrong\n",
    "    correct_indices = np.nonzero(predicted_classes == y_test)[0]\n",
    "    incorrect_indices = np.nonzero(predicted_classes != y_test)[0]    \n",
    "    \n",
    "    if X_test.ndim==2:\n",
    "        X_test_new = X_test.reshape(X_test.shape[0], \n",
    "                                np.sqrt(X_test.shape[1]), \n",
    "                                np.sqrt(X_test.shape[1]))\n",
    "    elif X_test.ndim==4:\n",
    "        X_test_new = X_test.squeeze()\n",
    "        \n",
    "    fig1 = figure(figsize=(14,3))\n",
    "    fig1.suptitle(\"Correct classifications\", fontsize=16)\n",
    "    num_corr = correct_indices.shape[0]\n",
    "    if num_corr>0:\n",
    "        rand_indices1 = np.random.randint(0, num_corr, (6))\n",
    "        for i, correct in enumerate(correct_indices[rand_indices1]):\n",
    "            subplot(1,6,i+1)\n",
    "            imshow(X_test_new[correct], cmap='gray', interpolation='none')\n",
    "            title(\"Predicted {}, Class {}\".format(predicted_classes[correct], \n",
    "                                                  y_test[correct]))\n",
    "    \n",
    "    fig2 = figure(figsize=(14,3))\n",
    "    fig2.suptitle(\"Misclassifications\", fontsize=16)\n",
    "    num_incorr = incorrect_indices.shape[0]\n",
    "    if num_incorr>0:\n",
    "        rand_indices2 = np.random.randint(0, num_incorr, (6))\n",
    "        for i, incorrect in enumerate(incorrect_indices[rand_indices2]):\n",
    "            subplot(1,6,i+1)\n",
    "            imshow(X_test_new[incorrect], cmap='gray', interpolation='none')\n",
    "            title(\"Predicted {}, Class {}\".format(predicted_classes[incorrect], y_test[incorrect]))\n",
    "\n",
    "    print (\"{:} correct classifications\".format(correct_indices.shape[0]))\n",
    "    print (\"{:} incorrect classifications\".format(incorrect_indices.shape[0]))"
   ]
  },
  {
   "cell_type": "code",
   "execution_count": 360,
   "metadata": {
    "collapsed": false,
    "scrolled": true
   },
   "outputs": [
    {
     "name": "stdout",
     "output_type": "stream",
     "text": [
      "1128 correct classifications\n",
      "8872 incorrect classifications\n"
     ]
    },
    {
     "data": {
      "image/png": "[encoded data removed]",
      "text/plain": [
       "<matplotlib.figure.Figure at 0x7fdb8cfd01d0>"
      ]
     },
     "metadata": {},
     "output_type": "display_data"
    },
    {
     "data": {
      "image/png": "[encoded data removed]",
      "text/plain": [
       "<matplotlib.figure.Figure at 0x7fdb7935b1d0>"
      ]
     },
     "metadata": {},
     "output_type": "display_data"
    }
   ],
   "source": [
    "inspect_classification_results(model, X_test, y_test)"
   ]
  },
  {
   "cell_type": "markdown",
   "metadata": {},
   "source": [
    "0.983 is probably the best we can do with a NN (MLP). A big problem of this model is the location dependancy. If the numbers are not centered then this will fail big way. The location invariance is one of the big pluses we get with a convolutional NN. "
   ]
  },
  {
   "cell_type": "markdown",
   "metadata": {},
   "source": [
    "For an MLP in pure python: https://github.com/meet-vora/mlp-classifier"
   ]
  },
  {
   "cell_type": "markdown",
   "metadata": {},
   "source": [
    "# CONVNET"
   ]
  },
  {
   "cell_type": "markdown",
   "metadata": {},
   "source": [
    "Read \"Deep learning tutorial (theano) (UMontreal)\" chapter of convolutional neural networks."
   ]
  },
  {
   "cell_type": "markdown",
   "metadata": {},
   "source": [
    "http://ml4a.github.io/guides/convolutional_neural_networks/"
   ]
  },
  {
   "cell_type": "code",
   "execution_count": 346,
   "metadata": {
    "collapsed": true
   },
   "outputs": [],
   "source": [
    "from __future__ import print_function\n",
    "import numpy as np\n",
    "np.random.seed(1337)  # for reproducibility"
   ]
  },
  {
   "cell_type": "code",
   "execution_count": 347,
   "metadata": {
    "collapsed": false
   },
   "outputs": [],
   "source": [
    "from keras.datasets import mnist\n",
    "from keras.models import Sequential\n",
    "from keras.layers import Dense, Dropout, Activation, Flatten\n",
    "from keras.layers import Convolution2D, MaxPooling2D\n",
    "from keras.utils import np_utils"
   ]
  },
  {
   "cell_type": "code",
   "execution_count": 348,
   "metadata": {
    "collapsed": true
   },
   "outputs": [],
   "source": [
    "# cuda-convnet convolution implementation is optimised for minibatch sizes \n",
    "# that are multiples of 128.\n",
    "batch_size = 128\n",
    "nb_classes = 10\n",
    "nb_epoch = 12\n",
    "\n",
    "# input image dimensions\n",
    "img_rows, img_cols = 28, 28\n",
    "# number of convolutional filters to use\n",
    "nb_filters = 32\n",
    "# size of pooling area for max pooling\n",
    "nb_pool = 2\n",
    "# convolution kernel size\n",
    "nb_conv = 3"
   ]
  },
  {
   "cell_type": "code",
   "execution_count": 349,
   "metadata": {
    "collapsed": false
   },
   "outputs": [],
   "source": [
    "# the data, shuffled and split between train and test sets\n",
    "(X_train, y_train), (X_test, y_test) = mnist.load_data()"
   ]
  },
  {
   "cell_type": "code",
   "execution_count": 249,
   "metadata": {
    "collapsed": false
   },
   "outputs": [
    {
     "name": "stdout",
     "output_type": "stream",
     "text": [
      "(60000, 28, 28)\n"
     ]
    },
    {
     "data": {
      "image/png": "[encoded data removed]",
      "text/plain": [
       "<matplotlib.figure.Figure at 0x7fdbc2100450>"
      ]
     },
     "metadata": {},
     "output_type": "display_data"
    }
   ],
   "source": [
    "%matplotlib inline\n",
    "\n",
    "from matplotlib.pyplot import *\n",
    "\n",
    "print(X_train.shape)\n",
    "\n",
    "figure(figsize=(12, 6))\n",
    "for i in range(12):\n",
    "    subplot(2,6,i+1)\n",
    "    imshow(X_train[i], cmap='gray', interpolation='none')\n",
    "    title(\"Class {}\".format(y_train[i]))"
   ]
  },
  {
   "cell_type": "code",
   "execution_count": 350,
   "metadata": {
    "collapsed": false
   },
   "outputs": [
    {
     "name": "stdout",
     "output_type": "stream",
     "text": [
      "X_train shape: (60000, 1, 28, 28)\n",
      "60000 train samples\n",
      "10000 test samples\n"
     ]
    }
   ],
   "source": [
    "X_train = X_train.reshape(X_train.shape[0], 1, img_rows, img_cols)\n",
    "X_test = X_test.reshape(X_test.shape[0], 1, img_rows, img_cols)\n",
    "X_train = X_train.astype('float32')\n",
    "X_test = X_test.astype('float32')\n",
    "X_train /= 255\n",
    "X_test /= 255\n",
    "print('X_train shape:', X_train.shape)\n",
    "print(X_train.shape[0], 'train samples')\n",
    "print(X_test.shape[0], 'test samples')"
   ]
  },
  {
   "cell_type": "markdown",
   "metadata": {},
   "source": [
    "Modify the target matrices to be in the one-hot format, i.e.\n",
    "```\n",
    "0 -> [1, 0, 0, 0, 0, 0, 0, 0, 0]\n",
    "1 -> [0, 1, 0, 0, 0, 0, 0, 0, 0]\n",
    "2 -> [0, 0, 1, 0, 0, 0, 0, 0, 0]\n",
    "```\n",
    "etc.\n"
   ]
  },
  {
   "cell_type": "code",
   "execution_count": 351,
   "metadata": {
    "collapsed": true
   },
   "outputs": [],
   "source": [
    "# convert class vectors to binary class matrices\n",
    "Y_train = np_utils.to_categorical(y_train, nb_classes)\n",
    "Y_test = np_utils.to_categorical(y_test, nb_classes)"
   ]
  },
  {
   "cell_type": "code",
   "execution_count": 245,
   "metadata": {
    "collapsed": false
   },
   "outputs": [
    {
     "data": {
      "text/plain": [
       "array([ 0.,  0.,  0.,  0.,  0.,  1.,  0.,  0.,  0.,  0.])"
      ]
     },
     "execution_count": 245,
     "metadata": {},
     "output_type": "execute_result"
    }
   ],
   "source": [
    "Y_train[0]"
   ]
  },
  {
   "cell_type": "markdown",
   "metadata": {},
   "source": [
    "Trains a simple convnet on the MNIST dataset.\n",
    "Gets to 99.25% test accuracy after 12 epochs\n",
    "(there is still a lot of margin for parameter tuning).\n",
    "16 seconds per epoch on a GRID K520 GPU."
   ]
  },
  {
   "cell_type": "code",
   "execution_count": 88,
   "metadata": {
    "collapsed": true
   },
   "outputs": [],
   "source": [
    "model = Sequential()\n",
    "\n",
    "model.add(Convolution2D(nb_filters, nb_conv, nb_conv,\n",
    "                        border_mode='valid',\n",
    "                        input_shape=(1, img_rows, img_cols)))\n",
    "model.add(Activation('relu'))\n",
    "model.add(Convolution2D(nb_filters, nb_conv, nb_conv))\n",
    "model.add(Activation('relu'))\n",
    "model.add(MaxPooling2D(pool_size=(nb_pool, nb_pool)))\n",
    "model.add(Dropout(0.25))\n",
    "\n",
    "model.add(Flatten())\n",
    "model.add(Dense(128))\n",
    "model.add(Activation('relu'))\n",
    "model.add(Dropout(0.5))\n",
    "model.add(Dense(nb_classes))\n",
    "model.add(Activation('softmax'))"
   ]
  },
  {
   "cell_type": "code",
   "execution_count": 89,
   "metadata": {
    "collapsed": true
   },
   "outputs": [],
   "source": [
    "model.compile(loss='categorical_crossentropy',\n",
    "              optimizer='adadelta',\n",
    "              metrics=['accuracy'])"
   ]
  },
  {
   "cell_type": "markdown",
   "metadata": {},
   "source": [
    "With optimizer 'adadelta'"
   ]
  },
  {
   "cell_type": "code",
   "execution_count": 33,
   "metadata": {
    "collapsed": true
   },
   "outputs": [
    {
     "name": "stdout",
     "output_type": "stream",
     "text": [
      "Train on 60000 samples, validate on 10000 samples\n",
      "Epoch 1/12\n",
      "60000/60000 [==============================] - 85s - loss: 0.3948 - acc: 0.8805 - val_loss: 0.1005 - val_acc: 0.9678\n",
      "Epoch 2/12\n",
      "60000/60000 [==============================] - 89s - loss: 0.1478 - acc: 0.9562 - val_loss: 0.0655 - val_acc: 0.9799\n",
      "Epoch 3/12\n",
      "60000/60000 [==============================] - 84s - loss: 0.1122 - acc: 0.9666 - val_loss: 0.0528 - val_acc: 0.9828\n",
      "Epoch 4/12\n",
      "60000/60000 [==============================] - 84s - loss: 0.0942 - acc: 0.9722 - val_loss: 0.0457 - val_acc: 0.9852\n",
      "Epoch 5/12\n",
      "60000/60000 [==============================] - 84s - loss: 0.0814 - acc: 0.9758 - val_loss: 0.0414 - val_acc: 0.9860\n",
      "Epoch 6/12\n",
      "60000/60000 [==============================] - 82s - loss: 0.0718 - acc: 0.9782 - val_loss: 0.0401 - val_acc: 0.9867\n",
      "Epoch 7/12\n",
      "60000/60000 [==============================] - 84s - loss: 0.0662 - acc: 0.9809 - val_loss: 0.0355 - val_acc: 0.9878\n",
      "Epoch 8/12\n",
      "60000/60000 [==============================] - 88s - loss: 0.0601 - acc: 0.9812 - val_loss: 0.0347 - val_acc: 0.9891\n",
      "Epoch 9/12\n",
      "60000/60000 [==============================] - 84s - loss: 0.0547 - acc: 0.9832 - val_loss: 0.0312 - val_acc: 0.9899\n",
      "Epoch 10/12\n",
      "60000/60000 [==============================] - 83s - loss: 0.0538 - acc: 0.9841 - val_loss: 0.0331 - val_acc: 0.9894\n",
      "Epoch 11/12\n",
      "60000/60000 [==============================] - 83s - loss: 0.0504 - acc: 0.9850 - val_loss: 0.0317 - val_acc: 0.9894\n",
      "Epoch 12/12\n",
      "60000/60000 [==============================] - 82s - loss: 0.0487 - acc: 0.9859 - val_loss: 0.0359 - val_acc: 0.9882\n",
      "Test score: 0.0359448110737\n",
      "Test accuracy: 0.9882\n",
      "CPU times: user 7h 44min, sys: 13min 25s, total: 7h 57min 25s\n",
      "Wall time: 17min 43s\n"
     ]
    }
   ],
   "source": [
    "%%time\n",
    "\n",
    "model.fit(X_train, Y_train, batch_size=batch_size, nb_epoch=nb_epoch,\n",
    "          verbose=1, validation_data=(X_test, Y_test))\n",
    "score = model.evaluate(X_test, Y_test, verbose=0)\n",
    "print('Test score:', score[0])\n",
    "print('Test accuracy:', score[1])"
   ]
  },
  {
   "cell_type": "markdown",
   "metadata": {},
   "source": [
    "With optimizer 'adagrad':"
   ]
  },
  {
   "cell_type": "code",
   "execution_count": 89,
   "metadata": {
    "collapsed": true
   },
   "outputs": [],
   "source": [
    "model.compile(loss='categorical_crossentropy',\n",
    "              optimizer='adagrad',\n",
    "              metrics=['accuracy'])"
   ]
  },
  {
   "cell_type": "code",
   "execution_count": 90,
   "metadata": {
    "collapsed": true
   },
   "outputs": [
    {
     "name": "stdout",
     "output_type": "stream",
     "text": [
      "Train on 60000 samples, validate on 10000 samples\n",
      "Epoch 1/12\n",
      "60000/60000 [==============================] - 83s - loss: 0.2345 - acc: 0.9288 - val_loss: 0.0632 - val_acc: 0.9805\n",
      "Epoch 2/12\n",
      "60000/60000 [==============================] - 83s - loss: 0.1018 - acc: 0.9696 - val_loss: 0.0471 - val_acc: 0.9840\n",
      "Epoch 3/12\n",
      "60000/60000 [==============================] - 81s - loss: 0.0802 - acc: 0.9759 - val_loss: 0.0398 - val_acc: 0.9866\n",
      "Epoch 4/12\n",
      "60000/60000 [==============================] - 85s - loss: 0.0707 - acc: 0.9789 - val_loss: 0.0362 - val_acc: 0.9879\n",
      "Epoch 5/12\n",
      "60000/60000 [==============================] - 83s - loss: 0.0621 - acc: 0.9811 - val_loss: 0.0334 - val_acc: 0.9880\n",
      "Epoch 6/12\n",
      "60000/60000 [==============================] - 82s - loss: 0.0544 - acc: 0.9837 - val_loss: 0.0322 - val_acc: 0.9890\n",
      "Epoch 7/12\n",
      "60000/60000 [==============================] - 82s - loss: 0.0510 - acc: 0.9844 - val_loss: 0.0310 - val_acc: 0.9899\n",
      "Epoch 8/12\n",
      "60000/60000 [==============================] - 80s - loss: 0.0466 - acc: 0.9861 - val_loss: 0.0302 - val_acc: 0.9898\n",
      "Epoch 9/12\n",
      "60000/60000 [==============================] - 80s - loss: 0.0437 - acc: 0.9863 - val_loss: 0.0273 - val_acc: 0.9907\n",
      "Epoch 10/12\n",
      "60000/60000 [==============================] - 83s - loss: 0.0425 - acc: 0.9870 - val_loss: 0.0279 - val_acc: 0.9908\n",
      "Epoch 11/12\n",
      "60000/60000 [==============================] - 85s - loss: 0.0406 - acc: 0.9873 - val_loss: 0.0274 - val_acc: 0.9907\n",
      "Epoch 12/12\n",
      "60000/60000 [==============================] - 80s - loss: 0.0395 - acc: 0.9880 - val_loss: 0.0287 - val_acc: 0.9908\n",
      "Test score: 0.0286807049898\n",
      "Test accuracy: 0.9908\n",
      "CPU times: user 7h 32min 35s, sys: 12min 58s, total: 7h 45min 33s\n",
      "Wall time: 16min 38s\n"
     ]
    }
   ],
   "source": [
    "%%time\n",
    "\n",
    "model.fit(X_train, Y_train, batch_size=batch_size, nb_epoch=nb_epoch,\n",
    "          verbose=1, validation_data=(X_test, Y_test))\n",
    "score = model.evaluate(X_test, Y_test, verbose=0)\n",
    "print('Test score:', score[0])\n",
    "print('Test accuracy:', score[1])"
   ]
  },
  {
   "cell_type": "markdown",
   "metadata": {},
   "source": [
    "With optimizer 'RMSprop'"
   ]
  },
  {
   "cell_type": "code",
   "execution_count": 91,
   "metadata": {
    "collapsed": true
   },
   "outputs": [],
   "source": [
    "model.compile(loss='categorical_crossentropy',\n",
    "              optimizer='rmsprop',\n",
    "              metrics=['accuracy'])"
   ]
  },
  {
   "cell_type": "code",
   "execution_count": 92,
   "metadata": {
    "collapsed": true
   },
   "outputs": [
    {
     "name": "stdout",
     "output_type": "stream",
     "text": [
      "Train on 60000 samples, validate on 10000 samples\n",
      "Epoch 1/12\n",
      "60000/60000 [==============================] - 86s - loss: 0.0580 - acc: 0.9829 - val_loss: 0.0348 - val_acc: 0.9883\n",
      "Epoch 2/12\n",
      "60000/60000 [==============================] - 79s - loss: 0.0529 - acc: 0.9841 - val_loss: 0.0341 - val_acc: 0.9887\n",
      "Epoch 3/12\n",
      "60000/60000 [==============================] - 83s - loss: 0.0537 - acc: 0.9844 - val_loss: 0.0344 - val_acc: 0.9896\n",
      "Epoch 4/12\n",
      "60000/60000 [==============================] - 81s - loss: 0.0561 - acc: 0.9837 - val_loss: 0.0355 - val_acc: 0.9896\n",
      "Epoch 5/12\n",
      "60000/60000 [==============================] - 80s - loss: 0.0544 - acc: 0.9844 - val_loss: 0.0370 - val_acc: 0.9896\n",
      "Epoch 6/12\n",
      "60000/60000 [==============================] - 80s - loss: 0.0534 - acc: 0.9847 - val_loss: 0.0486 - val_acc: 0.9866\n",
      "Epoch 7/12\n",
      "60000/60000 [==============================] - 80s - loss: 0.0560 - acc: 0.9839 - val_loss: 0.0350 - val_acc: 0.9895\n",
      "Epoch 8/12\n",
      "60000/60000 [==============================] - 81s - loss: 0.0607 - acc: 0.9830 - val_loss: 0.0372 - val_acc: 0.9895\n",
      "Epoch 9/12\n",
      "60000/60000 [==============================] - 79s - loss: 0.0575 - acc: 0.9844 - val_loss: 0.0377 - val_acc: 0.9882\n",
      "Epoch 10/12\n",
      "60000/60000 [==============================] - 79s - loss: 0.0575 - acc: 0.9844 - val_loss: 0.0360 - val_acc: 0.9892\n",
      "Epoch 11/12\n",
      "60000/60000 [==============================] - 80s - loss: 0.0578 - acc: 0.9837 - val_loss: 0.0406 - val_acc: 0.9874\n",
      "Epoch 12/12\n",
      "60000/60000 [==============================] - 79s - loss: 0.0589 - acc: 0.9837 - val_loss: 0.0358 - val_acc: 0.9889\n",
      "Test score: 0.0357825222851\n",
      "Test accuracy: 0.9889\n",
      "CPU times: user 7h 23min 41s, sys: 12min 47s, total: 7h 36min 28s\n",
      "Wall time: 16min 19s\n"
     ]
    }
   ],
   "source": [
    "%%time\n",
    "\n",
    "model.fit(X_train, Y_train, batch_size=batch_size, nb_epoch=nb_epoch,\n",
    "          verbose=1, validation_data=(X_test, Y_test))\n",
    "score = model.evaluate(X_test, Y_test, verbose=0)\n",
    "print('Test score:', score[0])\n",
    "print('Test accuracy:', score[1])"
   ]
  },
  {
   "cell_type": "markdown",
   "metadata": {},
   "source": [
    "### Adding max pooling after the first convolutional layer and using several optimizers"
   ]
  },
  {
   "cell_type": "code",
   "execution_count": 352,
   "metadata": {
    "collapsed": true
   },
   "outputs": [],
   "source": [
    "from keras.optimizers import Adam, RMSprop, Adadelta, SGD\n",
    "\n",
    "from keras.layers.advanced_activations import PReLU\n",
    "from keras.layers.normalization import BatchNormalization\n",
    "\n",
    "from keras.callbacks import EarlyStopping\n",
    "\n",
    "from keras.regularizers import l2"
   ]
  },
  {
   "cell_type": "code",
   "execution_count": 353,
   "metadata": {
    "collapsed": false
   },
   "outputs": [],
   "source": [
    "model = Sequential()\n",
    "\n",
    "model.add(Convolution2D(nb_filters, nb_conv, nb_conv,\n",
    "                        border_mode='valid',\n",
    "                        input_shape=(1, img_rows, img_cols)))\n",
    "model.add(Activation('relu'))\n",
    "#model.add(BatchNormalization())\n",
    "model.add(MaxPooling2D(pool_size=(nb_pool, nb_pool)))\n",
    "\n",
    "# Adding more filters (*4) in the second convolutional layer improves the accuracy/timing\n",
    "model.add(Convolution2D(nb_filters*4, nb_conv, nb_conv)) \n",
    "model.add(Activation('relu'))\n",
    "#model.add(BatchNormalization())\n",
    "model.add(MaxPooling2D(pool_size=(nb_pool, nb_pool)))\n",
    "model.add(Dropout(0.25))\n",
    "\n",
    "# Adding a third conv layer didn't improve the accuracy\n",
    "# model.add(Convolution2D(nb_filters*4, nb_conv, nb_conv))\n",
    "# model.add(Activation('relu'))\n",
    "# model.add(MaxPooling2D(pool_size=(nb_pool, nb_pool)))\n",
    "# model.add(Dropout(0.25))\n",
    "\n",
    "model.add(Flatten())\n",
    "\n",
    "# Dense(128) is a fully-connected layer with 128 hidden units\n",
    "model.add(Dense(128))\n",
    "model.add(Activation('relu'))\n",
    "model.add(Dropout(0.5))\n",
    "\n",
    "model.add(Dense(nb_classes))  #, W_regularizer=l2(0.01))) # no improvement with the regularization\n",
    "model.add(Activation('softmax'))\n",
    "\n",
    "# Patience is the # of epochs without improvement of 'monitor'\n",
    "#early_stopping = EarlyStopping(monitor='val_acc', patience=2, verbose=1) \n",
    "\n",
    "model.compile(loss='categorical_crossentropy',\n",
    "              optimizer=Adam(lr=0.001),\n",
    "              #SGD(lr=0.01, momentum=0.9, decay=1e-6, nesterov=True),\n",
    "              #SGD(lr=0.01, momentum=0.9, decay=0.0, nesterov=True),\n",
    "              #SGD(lr=0.01, momentum=0.9, decay=0.0, nesterov=False),\n",
    "              #SGD(lr=0.01, momentum=0.0, decay=0.0, nesterov=False),\n",
    "              #Adadelta(), #RMSprop(),  #Adam(lr=0.001),\n",
    "              metrics=['accuracy']) #, 'mse'])"
   ]
  },
  {
   "cell_type": "code",
   "execution_count": 343,
   "metadata": {
    "collapsed": false
   },
   "outputs": [
    {
     "data": {
      "text/plain": [
       "((60000, 1, 28, 28), (60000, 10))"
      ]
     },
     "execution_count": 343,
     "metadata": {},
     "output_type": "execute_result"
    }
   ],
   "source": [
    "X_train.shape, Y_train.shape"
   ]
  },
  {
   "cell_type": "code",
   "execution_count": 362,
   "metadata": {
    "collapsed": false,
    "scrolled": false
   },
   "outputs": [
    {
     "name": "stdout",
     "output_type": "stream",
     "text": [
      "Train on 60000 samples, validate on 10000 samples\n",
      "Epoch 1/30\n",
      "7s - loss: 0.0101 - acc: 0.9968 - val_loss: 0.0259 - val_acc: 0.9940\n",
      "Epoch 2/30\n",
      "7s - loss: 0.0099 - acc: 0.9967 - val_loss: 0.0257 - val_acc: 0.9943\n",
      "Epoch 3/30\n",
      "7s - loss: 0.0099 - acc: 0.9968 - val_loss: 0.0264 - val_acc: 0.9939\n",
      "Epoch 4/30\n",
      "7s - loss: 0.0118 - acc: 0.9962 - val_loss: 0.0253 - val_acc: 0.9939\n",
      "Epoch 5/30\n",
      "7s - loss: 0.0087 - acc: 0.9972 - val_loss: 0.0266 - val_acc: 0.9938\n",
      "Epoch 6/30\n",
      "7s - loss: 0.0098 - acc: 0.9966 - val_loss: 0.0260 - val_acc: 0.9939\n",
      "Epoch 7/30\n",
      "7s - loss: 0.0095 - acc: 0.9967 - val_loss: 0.0255 - val_acc: 0.9945\n",
      "Epoch 8/30\n",
      "7s - loss: 0.0083 - acc: 0.9973 - val_loss: 0.0297 - val_acc: 0.9937\n",
      "Epoch 9/30\n",
      "7s - loss: 0.0103 - acc: 0.9967 - val_loss: 0.0298 - val_acc: 0.9934\n",
      "Epoch 10/30\n",
      "7s - loss: 0.0087 - acc: 0.9970 - val_loss: 0.0265 - val_acc: 0.9936\n",
      "Epoch 11/30\n",
      "7s - loss: 0.0086 - acc: 0.9972 - val_loss: 0.0285 - val_acc: 0.9940\n",
      "Epoch 12/30\n",
      "7s - loss: 0.0093 - acc: 0.9970 - val_loss: 0.0281 - val_acc: 0.9932\n",
      "Epoch 13/30\n",
      "7s - loss: 0.0087 - acc: 0.9970 - val_loss: 0.0258 - val_acc: 0.9940\n",
      "Epoch 14/30\n",
      "7s - loss: 0.0070 - acc: 0.9976 - val_loss: 0.0260 - val_acc: 0.9940\n",
      "Epoch 15/30\n",
      "7s - loss: 0.0088 - acc: 0.9973 - val_loss: 0.0288 - val_acc: 0.9935\n",
      "Epoch 16/30\n",
      "7s - loss: 0.0074 - acc: 0.9977 - val_loss: 0.0292 - val_acc: 0.9934\n",
      "Epoch 17/30\n",
      "7s - loss: 0.0071 - acc: 0.9976 - val_loss: 0.0282 - val_acc: 0.9937\n",
      "Epoch 18/30\n",
      "7s - loss: 0.0085 - acc: 0.9972 - val_loss: 0.0257 - val_acc: 0.9941\n",
      "Epoch 19/30\n",
      "7s - loss: 0.0081 - acc: 0.9973 - val_loss: 0.0263 - val_acc: 0.9943\n",
      "Epoch 20/30\n",
      "7s - loss: 0.0079 - acc: 0.9975 - val_loss: 0.0288 - val_acc: 0.9942\n",
      "Epoch 21/30\n",
      "7s - loss: 0.0071 - acc: 0.9975 - val_loss: 0.0288 - val_acc: 0.9937\n",
      "Epoch 22/30\n",
      "7s - loss: 0.0066 - acc: 0.9979 - val_loss: 0.0301 - val_acc: 0.9943\n",
      "Epoch 23/30\n",
      "7s - loss: 0.0080 - acc: 0.9976 - val_loss: 0.0307 - val_acc: 0.9941\n",
      "Epoch 24/30\n",
      "7s - loss: 0.0062 - acc: 0.9979 - val_loss: 0.0308 - val_acc: 0.9943\n",
      "Epoch 25/30\n",
      "7s - loss: 0.0070 - acc: 0.9974 - val_loss: 0.0313 - val_acc: 0.9948\n",
      "Epoch 26/30\n",
      "7s - loss: 0.0074 - acc: 0.9975 - val_loss: 0.0343 - val_acc: 0.9941\n",
      "Epoch 27/30\n",
      "7s - loss: 0.0086 - acc: 0.9973 - val_loss: 0.0296 - val_acc: 0.9944\n",
      "Epoch 28/30\n",
      "7s - loss: 0.0075 - acc: 0.9977 - val_loss: 0.0327 - val_acc: 0.9931\n",
      "Epoch 29/30\n",
      "7s - loss: 0.0071 - acc: 0.9977 - val_loss: 0.0312 - val_acc: 0.9944\n",
      "Epoch 30/30\n",
      "7s - loss: 0.0072 - acc: 0.9978 - val_loss: 0.0305 - val_acc: 0.9940\n",
      "\n",
      "Test score: 0.0305214018613\n",
      "Test accuracy: 0.994\n",
      "CPU times: user 2min 48s, sys: 1min 7s, total: 3min 55s\n",
      "Wall time: 3min 55s\n"
     ]
    }
   ],
   "source": [
    "%%time\n",
    "\n",
    "model.fit(X_train, Y_train, batch_size=128, nb_epoch=30, verbose=2, \n",
    "          validation_data=(X_test, Y_test)) #, callbacks=[early_stopping])\n",
    "score = model.evaluate(X_test, Y_test, verbose=2)\n",
    "print('')\n",
    "print('Test score:', score[0])\n",
    "print('Test accuracy:', score[1])"
   ]
  },
  {
   "cell_type": "markdown",
   "metadata": {},
   "source": [
    "Timings and accuracies\n",
    "----------------------\n",
    "\n",
    "It was >16min on CPU without the first pooling layer. After adding the first pooling layer (2dconv->pooling, 2dconv->pooling) and using still 12 epochs we get:\n",
    "```\n",
    "Optimizer: Adam\n",
    "On CPU: 8min 36s\n",
    "Time per epoch: 80s\n",
    "Test score: 0.02403\n",
    "Test accuracy: 0.9917\n",
    "\n",
    "Optimizer: Adam\n",
    "On GPU (no cuDNN): 6min 24s\n",
    "Time per epoch: ~15s\n",
    "Test score: 0.02427\n",
    "Test accuracy: 0.991\n",
    "This case suffers at the beginning before the 1st epoch stats.\n",
    "\n",
    "Optimizer: Adam\n",
    "On GPU (cuDNN installed): 1min 50s\n",
    "time per epoch: ~5s\n",
    "Test score: 0.024082\n",
    "Test accuracy: 0.9919\n",
    "\n",
    "```\n",
    "\n",
    "Keeping the batch size to 128 and setting 10 epochs. A better comparison should be done by running more epochs, but this shows how fast it climbs the maximum in just 10 epochs. \n",
    "\n",
    "```\n",
    "Optimizer: Adam lr0.001\n",
    "On GPU (cuDNN installed): 52.5s\n",
    "time per epoch: ~4s\n",
    "Test score: 0.0233081568512\n",
    "Test accuracy: 0.9915\n",
    "\n",
    "Optimizer: Rmsprop\n",
    "On GPU (cuDNN installed): 1min\n",
    "time per epoch: ~5s\n",
    "Test score: 0.0294238932326\n",
    "Test accuracy: 0.9912\n",
    "\n",
    "Optimizer: Adadelta\n",
    "On GPU (cuDNN installed): 51.6s\n",
    "time per epoch: ~4s\n",
    "Test score: 0.0345516487449\n",
    "Test accuracy: 0.9882\n",
    "\n",
    "Optimizer: SGD\n",
    "On GPU (cuDNN installed): 49.4s\n",
    "time per epoch: ~4s\n",
    "Test score: 0.101561307194\n",
    "Test accuracy: 0.9684\n",
    "\n",
    "Optimizer: SGD with momentum\n",
    "On GPU (cuDNN installed): 50s\n",
    "time per epoch: ~4s\n",
    "Test score: 0.0320203095882\n",
    "Test accuracy: 0.9881\n",
    "\n",
    "Optimizer: SGD with momentum + Nesterov accelerated gradient\n",
    "On GPU (cuDNN installed): 51.3s\n",
    "time per epoch: ~4s\n",
    "Test score: 0.0336439619822\n",
    "Test accuracy: 0.9883\n",
    "\n",
    "Optimizer: SGD with momentum + Nesterov accelerated gradient + decay\n",
    "On GPU (cuDNN installed): 51.5s\n",
    "time per epoch: ~4s\n",
    "Test score: 0.0317112610649\n",
    "Test accuracy: 0.989\n",
    "\n",
    "```\n",
    "\n",
    "Setting to 150 epochs:\n",
    "\n",
    "```\n",
    "Optimizer: SGD lr0.01 \n",
    "On GPU (cuDNN installed): 12min\n",
    "time per epoch: ~4s\n",
    "Test score: 0.0251487818598\n",
    "Test accuracy: 0.991\n",
    "After 110 epochs it oscillates aroung 0.990, slowly towards the end goes to 0.991\n",
    "\n",
    "Optimizer: SGD lr0.01 with momentum + Nesterov accelerated gradient + decay\n",
    "On GPU (cuDNN installed): 11min 50s\n",
    "time per epoch: ~4s\n",
    "Test score: 0.0222271679011\n",
    "Test accuracy: 0.9941\n",
    "After 70 epochs it starts to oscillate aroung 0.994\n",
    "\n",
    "Optimizer: Rmsprop\n",
    "On GPU (cuDNN installed): 14min 6s\n",
    "time per epoch: ~5s\n",
    "Test score: 0.0467062903661\n",
    "Test accuracy: 0.9901\n",
    "Never improves over 0.990, just oscillates around that point\n",
    "\n",
    "Optimizer: Adam lr0.001\n",
    "On GPU (cuDNN installed): 11m 57s\n",
    "time per epoch: ~4s\n",
    "Test score: 0.0325294366336\n",
    "Test accuracy: 0.9935\n",
    "After 30 epochs (2min 30s) it was already oscillating around 0.994\n",
    "\n",
    "```\n",
    "\n",
    "Observations\n",
    "------------\n",
    "MNIST is probably not a large enough problem to see big differences between the SGD, Adam, RMSprop and Adadelta. Also more fair comparison would be running several times and take the mean/median, or the best out of 3. \n",
    "\n",
    "The accuracy is pretty high after the first epoch, already at 0.99. Maybe that's due to a good CNN architecture. Then less epochs would be neccesary.\n",
    "\n",
    "Adam seems to be the best optimizer, on par for accuracy with SGD (momentum, decay and nesterov). RMSprop gets suboptimal accuracy as well as simple SGD.\n",
    "\n",
    "Small 128 is better than big batch 1000. Faster growth of accuracy.\n",
    "\n",
    "Wit Adam, using lr0.1 (higher) the accuracy stucks at 0.982. Using lr0.0001 (lower) it oscillates around 0.98."
   ]
  },
  {
   "cell_type": "markdown",
   "metadata": {},
   "source": [
    "### Model infor and visualization"
   ]
  },
  {
   "cell_type": "code",
   "execution_count": 320,
   "metadata": {
    "collapsed": false
   },
   "outputs": [
    {
     "name": "stdout",
     "output_type": "stream",
     "text": [
      "____________________________________________________________________________________________________\n",
      "Layer (type)                     Output Shape          Param #     Connected to                     \n",
      "====================================================================================================\n",
      "convolution2d_148 (Convolution2D)(None, 32, 26, 26)    320         convolution2d_input_71[0][0]     \n",
      "____________________________________________________________________________________________________\n",
      "activation_275 (Activation)      (None, 32, 26, 26)    0           convolution2d_148[0][0]          \n",
      "____________________________________________________________________________________________________\n",
      "maxpooling2d_146 (MaxPooling2D)  (None, 32, 13, 13)    0           activation_275[0][0]             \n",
      "____________________________________________________________________________________________________\n",
      "convolution2d_149 (Convolution2D)(None, 128, 11, 11)   36992       maxpooling2d_146[0][0]           \n",
      "____________________________________________________________________________________________________\n",
      "activation_276 (Activation)      (None, 128, 11, 11)   0           convolution2d_149[0][0]          \n",
      "____________________________________________________________________________________________________\n",
      "maxpooling2d_147 (MaxPooling2D)  (None, 128, 5, 5)     0           activation_276[0][0]             \n",
      "____________________________________________________________________________________________________\n",
      "dropout_137 (Dropout)            (None, 128, 5, 5)     0           maxpooling2d_147[0][0]           \n",
      "____________________________________________________________________________________________________\n",
      "flatten_68 (Flatten)             (None, 3200)          0           dropout_137[0][0]                \n",
      "____________________________________________________________________________________________________\n",
      "dense_136 (Dense)                (None, 128)           409728      flatten_68[0][0]                 \n",
      "____________________________________________________________________________________________________\n",
      "activation_277 (Activation)      (None, 128)           0           dense_136[0][0]                  \n",
      "____________________________________________________________________________________________________\n",
      "dropout_138 (Dropout)            (None, 128)           0           activation_277[0][0]             \n",
      "____________________________________________________________________________________________________\n",
      "dense_137 (Dense)                (None, 10)            1290        dropout_138[0][0]                \n",
      "____________________________________________________________________________________________________\n",
      "activation_278 (Activation)      (None, 10)            0           dense_137[0][0]                  \n",
      "====================================================================================================\n",
      "Total params: 448330\n",
      "____________________________________________________________________________________________________\n"
     ]
    }
   ],
   "source": [
    "model.summary()"
   ]
  },
  {
   "cell_type": "raw",
   "metadata": {},
   "source": [
    "For saving the model plot:\n",
    "\n",
    "from keras.utils.visualize_util import plot\n",
    "plot(model, to_file='model.png')"
   ]
  },
  {
   "cell_type": "code",
   "execution_count": 321,
   "metadata": {
    "collapsed": true
   },
   "outputs": [
    {
     "data": {
      "image/svg+xml": [
       "<svg height=\"1134pt\" viewBox=\"0.00 0.00 407.00 1134.00\" width=\"407pt\" xmlns=\"http://www.w3.org/2000/svg\" xmlns:xlink=\"http://www.w3.org/1999/xlink\">\n",
       "<g class=\"graph\" id=\"graph0\" transform=\"scale(1 1) rotate(0) translate(4 1130)\">\n",
       "<title>G</title>\n",
       "<polygon fill=\"white\" points=\"-4,4 -4,-1130 403,-1130 403,4 -4,4\" stroke=\"none\"/>\n",
       "<!-- 140580612636560 -->\n",
       "<g class=\"node\" id=\"node1\"><title>140580612636560</title>\n",
       "<polygon fill=\"none\" points=\"5.5,-1079.5 5.5,-1125.5 393.5,-1125.5 393.5,-1079.5 5.5,-1079.5\" stroke=\"black\"/>\n",
       "<text font-family=\"Times,serif\" font-size=\"14.00\" text-anchor=\"middle\" x=\"116.5\" y=\"-1098.8\">convolution2d_input_71 (InputLayer)</text>\n",
       "<polyline fill=\"none\" points=\"227.5,-1079.5 227.5,-1125.5 \" stroke=\"black\"/>\n",
       "<text font-family=\"Times,serif\" font-size=\"14.00\" text-anchor=\"middle\" x=\"255\" y=\"-1110.3\">input:</text>\n",
       "<polyline fill=\"none\" points=\"227.5,-1102.5 282.5,-1102.5 \" stroke=\"black\"/>\n",
       "<text font-family=\"Times,serif\" font-size=\"14.00\" text-anchor=\"middle\" x=\"255\" y=\"-1087.3\">output:</text>\n",
       "<polyline fill=\"none\" points=\"282.5,-1079.5 282.5,-1125.5 \" stroke=\"black\"/>\n",
       "<text font-family=\"Times,serif\" font-size=\"14.00\" text-anchor=\"middle\" x=\"338\" y=\"-1110.3\">(None, 1, 28, 28)</text>\n",
       "<polyline fill=\"none\" points=\"282.5,-1102.5 393.5,-1102.5 \" stroke=\"black\"/>\n",
       "<text font-family=\"Times,serif\" font-size=\"14.00\" text-anchor=\"middle\" x=\"338\" y=\"-1087.3\">(None, 1, 28, 28)</text>\n",
       "</g>\n",
       "<!-- 140580979017168 -->\n",
       "<g class=\"node\" id=\"node2\"><title>140580979017168</title>\n",
       "<polygon fill=\"none\" points=\"4,-996.5 4,-1042.5 395,-1042.5 395,-996.5 4,-996.5\" stroke=\"black\"/>\n",
       "<text font-family=\"Times,serif\" font-size=\"14.00\" text-anchor=\"middle\" x=\"113\" y=\"-1015.8\">convolution2d_148 (Convolution2D)</text>\n",
       "<polyline fill=\"none\" points=\"222,-996.5 222,-1042.5 \" stroke=\"black\"/>\n",
       "<text font-family=\"Times,serif\" font-size=\"14.00\" text-anchor=\"middle\" x=\"249.5\" y=\"-1027.3\">input:</text>\n",
       "<polyline fill=\"none\" points=\"222,-1019.5 277,-1019.5 \" stroke=\"black\"/>\n",
       "<text font-family=\"Times,serif\" font-size=\"14.00\" text-anchor=\"middle\" x=\"249.5\" y=\"-1004.3\">output:</text>\n",
       "<polyline fill=\"none\" points=\"277,-996.5 277,-1042.5 \" stroke=\"black\"/>\n",
       "<text font-family=\"Times,serif\" font-size=\"14.00\" text-anchor=\"middle\" x=\"336\" y=\"-1027.3\">(None, 1, 28, 28)</text>\n",
       "<polyline fill=\"none\" points=\"277,-1019.5 395,-1019.5 \" stroke=\"black\"/>\n",
       "<text font-family=\"Times,serif\" font-size=\"14.00\" text-anchor=\"middle\" x=\"336\" y=\"-1004.3\">(None, 32, 26, 26)</text>\n",
       "</g>\n",
       "<!-- 140580612636560&#45;&gt;140580979017168 -->\n",
       "<g class=\"edge\" id=\"edge1\"><title>140580612636560-&gt;140580979017168</title>\n",
       "<path d=\"M199.5,-1079.37C199.5,-1071.15 199.5,-1061.66 199.5,-1052.73\" fill=\"none\" stroke=\"black\"/>\n",
       "<polygon fill=\"black\" points=\"203,-1052.61 199.5,-1042.61 196,-1052.61 203,-1052.61\" stroke=\"black\"/>\n",
       "</g>\n",
       "<!-- 140580612636176 -->\n",
       "<g class=\"node\" id=\"node3\"><title>140580612636176</title>\n",
       "<polygon fill=\"none\" points=\"29.5,-913.5 29.5,-959.5 369.5,-959.5 369.5,-913.5 29.5,-913.5\" stroke=\"black\"/>\n",
       "<text font-family=\"Times,serif\" font-size=\"14.00\" text-anchor=\"middle\" x=\"113\" y=\"-932.8\">activation_275 (Activation)</text>\n",
       "<polyline fill=\"none\" points=\"196.5,-913.5 196.5,-959.5 \" stroke=\"black\"/>\n",
       "<text font-family=\"Times,serif\" font-size=\"14.00\" text-anchor=\"middle\" x=\"224\" y=\"-944.3\">input:</text>\n",
       "<polyline fill=\"none\" points=\"196.5,-936.5 251.5,-936.5 \" stroke=\"black\"/>\n",
       "<text font-family=\"Times,serif\" font-size=\"14.00\" text-anchor=\"middle\" x=\"224\" y=\"-921.3\">output:</text>\n",
       "<polyline fill=\"none\" points=\"251.5,-913.5 251.5,-959.5 \" stroke=\"black\"/>\n",
       "<text font-family=\"Times,serif\" font-size=\"14.00\" text-anchor=\"middle\" x=\"310.5\" y=\"-944.3\">(None, 32, 26, 26)</text>\n",
       "<polyline fill=\"none\" points=\"251.5,-936.5 369.5,-936.5 \" stroke=\"black\"/>\n",
       "<text font-family=\"Times,serif\" font-size=\"14.00\" text-anchor=\"middle\" x=\"310.5\" y=\"-921.3\">(None, 32, 26, 26)</text>\n",
       "</g>\n",
       "<!-- 140580979017168&#45;&gt;140580612636176 -->\n",
       "<g class=\"edge\" id=\"edge2\"><title>140580979017168-&gt;140580612636176</title>\n",
       "<path d=\"M199.5,-996.366C199.5,-988.152 199.5,-978.658 199.5,-969.725\" fill=\"none\" stroke=\"black\"/>\n",
       "<polygon fill=\"black\" points=\"203,-969.607 199.5,-959.607 196,-969.607 203,-969.607\" stroke=\"black\"/>\n",
       "</g>\n",
       "<!-- 140580612492752 -->\n",
       "<g class=\"node\" id=\"node4\"><title>140580612492752</title>\n",
       "<polygon fill=\"none\" points=\"3.5,-830.5 3.5,-876.5 395.5,-876.5 395.5,-830.5 3.5,-830.5\" stroke=\"black\"/>\n",
       "<text font-family=\"Times,serif\" font-size=\"14.00\" text-anchor=\"middle\" x=\"113\" y=\"-849.8\">maxpooling2d_146 (MaxPooling2D)</text>\n",
       "<polyline fill=\"none\" points=\"222.5,-830.5 222.5,-876.5 \" stroke=\"black\"/>\n",
       "<text font-family=\"Times,serif\" font-size=\"14.00\" text-anchor=\"middle\" x=\"250\" y=\"-861.3\">input:</text>\n",
       "<polyline fill=\"none\" points=\"222.5,-853.5 277.5,-853.5 \" stroke=\"black\"/>\n",
       "<text font-family=\"Times,serif\" font-size=\"14.00\" text-anchor=\"middle\" x=\"250\" y=\"-838.3\">output:</text>\n",
       "<polyline fill=\"none\" points=\"277.5,-830.5 277.5,-876.5 \" stroke=\"black\"/>\n",
       "<text font-family=\"Times,serif\" font-size=\"14.00\" text-anchor=\"middle\" x=\"336.5\" y=\"-861.3\">(None, 32, 26, 26)</text>\n",
       "<polyline fill=\"none\" points=\"277.5,-853.5 395.5,-853.5 \" stroke=\"black\"/>\n",
       "<text font-family=\"Times,serif\" font-size=\"14.00\" text-anchor=\"middle\" x=\"336.5\" y=\"-838.3\">(None, 32, 13, 13)</text>\n",
       "</g>\n",
       "<!-- 140580612636176&#45;&gt;140580612492752 -->\n",
       "<g class=\"edge\" id=\"edge3\"><title>140580612636176-&gt;140580612492752</title>\n",
       "<path d=\"M199.5,-913.366C199.5,-905.152 199.5,-895.658 199.5,-886.725\" fill=\"none\" stroke=\"black\"/>\n",
       "<polygon fill=\"black\" points=\"203,-886.607 199.5,-876.607 196,-886.607 203,-886.607\" stroke=\"black\"/>\n",
       "</g>\n",
       "<!-- 140580612490192 -->\n",
       "<g class=\"node\" id=\"node5\"><title>140580612490192</title>\n",
       "<polygon fill=\"none\" points=\"0.5,-747.5 0.5,-793.5 398.5,-793.5 398.5,-747.5 0.5,-747.5\" stroke=\"black\"/>\n",
       "<text font-family=\"Times,serif\" font-size=\"14.00\" text-anchor=\"middle\" x=\"109.5\" y=\"-766.8\">convolution2d_149 (Convolution2D)</text>\n",
       "<polyline fill=\"none\" points=\"218.5,-747.5 218.5,-793.5 \" stroke=\"black\"/>\n",
       "<text font-family=\"Times,serif\" font-size=\"14.00\" text-anchor=\"middle\" x=\"246\" y=\"-778.3\">input:</text>\n",
       "<polyline fill=\"none\" points=\"218.5,-770.5 273.5,-770.5 \" stroke=\"black\"/>\n",
       "<text font-family=\"Times,serif\" font-size=\"14.00\" text-anchor=\"middle\" x=\"246\" y=\"-755.3\">output:</text>\n",
       "<polyline fill=\"none\" points=\"273.5,-747.5 273.5,-793.5 \" stroke=\"black\"/>\n",
       "<text font-family=\"Times,serif\" font-size=\"14.00\" text-anchor=\"middle\" x=\"336\" y=\"-778.3\">(None, 32, 13, 13)</text>\n",
       "<polyline fill=\"none\" points=\"273.5,-770.5 398.5,-770.5 \" stroke=\"black\"/>\n",
       "<text font-family=\"Times,serif\" font-size=\"14.00\" text-anchor=\"middle\" x=\"336\" y=\"-755.3\">(None, 128, 11, 11)</text>\n",
       "</g>\n",
       "<!-- 140580612492752&#45;&gt;140580612490192 -->\n",
       "<g class=\"edge\" id=\"edge4\"><title>140580612492752-&gt;140580612490192</title>\n",
       "<path d=\"M199.5,-830.366C199.5,-822.152 199.5,-812.658 199.5,-803.725\" fill=\"none\" stroke=\"black\"/>\n",
       "<polygon fill=\"black\" points=\"203,-803.607 199.5,-793.607 196,-803.607 203,-803.607\" stroke=\"black\"/>\n",
       "</g>\n",
       "<!-- 140580612489680 -->\n",
       "<g class=\"node\" id=\"node6\"><title>140580612489680</title>\n",
       "<polygon fill=\"none\" points=\"26,-664.5 26,-710.5 373,-710.5 373,-664.5 26,-664.5\" stroke=\"black\"/>\n",
       "<text font-family=\"Times,serif\" font-size=\"14.00\" text-anchor=\"middle\" x=\"109.5\" y=\"-683.8\">activation_276 (Activation)</text>\n",
       "<polyline fill=\"none\" points=\"193,-664.5 193,-710.5 \" stroke=\"black\"/>\n",
       "<text font-family=\"Times,serif\" font-size=\"14.00\" text-anchor=\"middle\" x=\"220.5\" y=\"-695.3\">input:</text>\n",
       "<polyline fill=\"none\" points=\"193,-687.5 248,-687.5 \" stroke=\"black\"/>\n",
       "<text font-family=\"Times,serif\" font-size=\"14.00\" text-anchor=\"middle\" x=\"220.5\" y=\"-672.3\">output:</text>\n",
       "<polyline fill=\"none\" points=\"248,-664.5 248,-710.5 \" stroke=\"black\"/>\n",
       "<text font-family=\"Times,serif\" font-size=\"14.00\" text-anchor=\"middle\" x=\"310.5\" y=\"-695.3\">(None, 128, 11, 11)</text>\n",
       "<polyline fill=\"none\" points=\"248,-687.5 373,-687.5 \" stroke=\"black\"/>\n",
       "<text font-family=\"Times,serif\" font-size=\"14.00\" text-anchor=\"middle\" x=\"310.5\" y=\"-672.3\">(None, 128, 11, 11)</text>\n",
       "</g>\n",
       "<!-- 140580612490192&#45;&gt;140580612489680 -->\n",
       "<g class=\"edge\" id=\"edge5\"><title>140580612490192-&gt;140580612489680</title>\n",
       "<path d=\"M199.5,-747.366C199.5,-739.152 199.5,-729.658 199.5,-720.725\" fill=\"none\" stroke=\"black\"/>\n",
       "<polygon fill=\"black\" points=\"203,-720.607 199.5,-710.607 196,-720.607 203,-720.607\" stroke=\"black\"/>\n",
       "</g>\n",
       "<!-- 140580610073872 -->\n",
       "<g class=\"node\" id=\"node7\"><title>140580610073872</title>\n",
       "<polygon fill=\"none\" points=\"-2.84217e-14,-581.5 -2.84217e-14,-627.5 399,-627.5 399,-581.5 -2.84217e-14,-581.5\" stroke=\"black\"/>\n",
       "<text font-family=\"Times,serif\" font-size=\"14.00\" text-anchor=\"middle\" x=\"109.5\" y=\"-600.8\">maxpooling2d_147 (MaxPooling2D)</text>\n",
       "<polyline fill=\"none\" points=\"219,-581.5 219,-627.5 \" stroke=\"black\"/>\n",
       "<text font-family=\"Times,serif\" font-size=\"14.00\" text-anchor=\"middle\" x=\"246.5\" y=\"-612.3\">input:</text>\n",
       "<polyline fill=\"none\" points=\"219,-604.5 274,-604.5 \" stroke=\"black\"/>\n",
       "<text font-family=\"Times,serif\" font-size=\"14.00\" text-anchor=\"middle\" x=\"246.5\" y=\"-589.3\">output:</text>\n",
       "<polyline fill=\"none\" points=\"274,-581.5 274,-627.5 \" stroke=\"black\"/>\n",
       "<text font-family=\"Times,serif\" font-size=\"14.00\" text-anchor=\"middle\" x=\"336.5\" y=\"-612.3\">(None, 128, 11, 11)</text>\n",
       "<polyline fill=\"none\" points=\"274,-604.5 399,-604.5 \" stroke=\"black\"/>\n",
       "<text font-family=\"Times,serif\" font-size=\"14.00\" text-anchor=\"middle\" x=\"336.5\" y=\"-589.3\">(None, 128, 5, 5)</text>\n",
       "</g>\n",
       "<!-- 140580612489680&#45;&gt;140580610073872 -->\n",
       "<g class=\"edge\" id=\"edge6\"><title>140580612489680-&gt;140580610073872</title>\n",
       "<path d=\"M199.5,-664.366C199.5,-656.152 199.5,-646.658 199.5,-637.725\" fill=\"none\" stroke=\"black\"/>\n",
       "<polygon fill=\"black\" points=\"203,-637.607 199.5,-627.607 196,-637.607 203,-637.607\" stroke=\"black\"/>\n",
       "</g>\n",
       "<!-- 140580610153424 -->\n",
       "<g class=\"node\" id=\"node8\"><title>140580610153424</title>\n",
       "<polygon fill=\"none\" points=\"45,-498.5 45,-544.5 354,-544.5 354,-498.5 45,-498.5\" stroke=\"black\"/>\n",
       "<text font-family=\"Times,serif\" font-size=\"14.00\" text-anchor=\"middle\" x=\"116.5\" y=\"-517.8\">dropout_137 (Dropout)</text>\n",
       "<polyline fill=\"none\" points=\"188,-498.5 188,-544.5 \" stroke=\"black\"/>\n",
       "<text font-family=\"Times,serif\" font-size=\"14.00\" text-anchor=\"middle\" x=\"215.5\" y=\"-529.3\">input:</text>\n",
       "<polyline fill=\"none\" points=\"188,-521.5 243,-521.5 \" stroke=\"black\"/>\n",
       "<text font-family=\"Times,serif\" font-size=\"14.00\" text-anchor=\"middle\" x=\"215.5\" y=\"-506.3\">output:</text>\n",
       "<polyline fill=\"none\" points=\"243,-498.5 243,-544.5 \" stroke=\"black\"/>\n",
       "<text font-family=\"Times,serif\" font-size=\"14.00\" text-anchor=\"middle\" x=\"298.5\" y=\"-529.3\">(None, 128, 5, 5)</text>\n",
       "<polyline fill=\"none\" points=\"243,-521.5 354,-521.5 \" stroke=\"black\"/>\n",
       "<text font-family=\"Times,serif\" font-size=\"14.00\" text-anchor=\"middle\" x=\"298.5\" y=\"-506.3\">(None, 128, 5, 5)</text>\n",
       "</g>\n",
       "<!-- 140580610073872&#45;&gt;140580610153424 -->\n",
       "<g class=\"edge\" id=\"edge7\"><title>140580610073872-&gt;140580610153424</title>\n",
       "<path d=\"M199.5,-581.366C199.5,-573.152 199.5,-563.658 199.5,-554.725\" fill=\"none\" stroke=\"black\"/>\n",
       "<polygon fill=\"black\" points=\"203,-554.607 199.5,-544.607 196,-554.607 203,-554.607\" stroke=\"black\"/>\n",
       "</g>\n",
       "<!-- 140580610153296 -->\n",
       "<g class=\"node\" id=\"node9\"><title>140580610153296</title>\n",
       "<polygon fill=\"none\" points=\"55.5,-415.5 55.5,-461.5 343.5,-461.5 343.5,-415.5 55.5,-415.5\" stroke=\"black\"/>\n",
       "<text font-family=\"Times,serif\" font-size=\"14.00\" text-anchor=\"middle\" x=\"116.5\" y=\"-434.8\">flatten_68 (Flatten)</text>\n",
       "<polyline fill=\"none\" points=\"177.5,-415.5 177.5,-461.5 \" stroke=\"black\"/>\n",
       "<text font-family=\"Times,serif\" font-size=\"14.00\" text-anchor=\"middle\" x=\"205\" y=\"-446.3\">input:</text>\n",
       "<polyline fill=\"none\" points=\"177.5,-438.5 232.5,-438.5 \" stroke=\"black\"/>\n",
       "<text font-family=\"Times,serif\" font-size=\"14.00\" text-anchor=\"middle\" x=\"205\" y=\"-423.3\">output:</text>\n",
       "<polyline fill=\"none\" points=\"232.5,-415.5 232.5,-461.5 \" stroke=\"black\"/>\n",
       "<text font-family=\"Times,serif\" font-size=\"14.00\" text-anchor=\"middle\" x=\"288\" y=\"-446.3\">(None, 128, 5, 5)</text>\n",
       "<polyline fill=\"none\" points=\"232.5,-438.5 343.5,-438.5 \" stroke=\"black\"/>\n",
       "<text font-family=\"Times,serif\" font-size=\"14.00\" text-anchor=\"middle\" x=\"288\" y=\"-423.3\">(None, 3200)</text>\n",
       "</g>\n",
       "<!-- 140580610153424&#45;&gt;140580610153296 -->\n",
       "<g class=\"edge\" id=\"edge8\"><title>140580610153424-&gt;140580610153296</title>\n",
       "<path d=\"M199.5,-498.366C199.5,-490.152 199.5,-480.658 199.5,-471.725\" fill=\"none\" stroke=\"black\"/>\n",
       "<polygon fill=\"black\" points=\"203,-471.607 199.5,-461.607 196,-471.607 203,-471.607\" stroke=\"black\"/>\n",
       "</g>\n",
       "<!-- 140580989216656 -->\n",
       "<g class=\"node\" id=\"node10\"><title>140580989216656</title>\n",
       "<polygon fill=\"none\" points=\"67,-332.5 67,-378.5 332,-378.5 332,-332.5 67,-332.5\" stroke=\"black\"/>\n",
       "<text font-family=\"Times,serif\" font-size=\"14.00\" text-anchor=\"middle\" x=\"127.5\" y=\"-351.8\">dense_136 (Dense)</text>\n",
       "<polyline fill=\"none\" points=\"188,-332.5 188,-378.5 \" stroke=\"black\"/>\n",
       "<text font-family=\"Times,serif\" font-size=\"14.00\" text-anchor=\"middle\" x=\"215.5\" y=\"-363.3\">input:</text>\n",
       "<polyline fill=\"none\" points=\"188,-355.5 243,-355.5 \" stroke=\"black\"/>\n",
       "<text font-family=\"Times,serif\" font-size=\"14.00\" text-anchor=\"middle\" x=\"215.5\" y=\"-340.3\">output:</text>\n",
       "<polyline fill=\"none\" points=\"243,-332.5 243,-378.5 \" stroke=\"black\"/>\n",
       "<text font-family=\"Times,serif\" font-size=\"14.00\" text-anchor=\"middle\" x=\"287.5\" y=\"-363.3\">(None, 3200)</text>\n",
       "<polyline fill=\"none\" points=\"243,-355.5 332,-355.5 \" stroke=\"black\"/>\n",
       "<text font-family=\"Times,serif\" font-size=\"14.00\" text-anchor=\"middle\" x=\"287.5\" y=\"-340.3\">(None, 128)</text>\n",
       "</g>\n",
       "<!-- 140580610153296&#45;&gt;140580989216656 -->\n",
       "<g class=\"edge\" id=\"edge9\"><title>140580610153296-&gt;140580989216656</title>\n",
       "<path d=\"M199.5,-415.366C199.5,-407.152 199.5,-397.658 199.5,-388.725\" fill=\"none\" stroke=\"black\"/>\n",
       "<polygon fill=\"black\" points=\"203,-388.607 199.5,-378.607 196,-388.607 203,-388.607\" stroke=\"black\"/>\n",
       "</g>\n",
       "<!-- 140580989352080 -->\n",
       "<g class=\"node\" id=\"node11\"><title>140580989352080</title>\n",
       "<polygon fill=\"none\" points=\"47,-249.5 47,-295.5 352,-295.5 352,-249.5 47,-249.5\" stroke=\"black\"/>\n",
       "<text font-family=\"Times,serif\" font-size=\"14.00\" text-anchor=\"middle\" x=\"130.5\" y=\"-268.8\">activation_277 (Activation)</text>\n",
       "<polyline fill=\"none\" points=\"214,-249.5 214,-295.5 \" stroke=\"black\"/>\n",
       "<text font-family=\"Times,serif\" font-size=\"14.00\" text-anchor=\"middle\" x=\"241.5\" y=\"-280.3\">input:</text>\n",
       "<polyline fill=\"none\" points=\"214,-272.5 269,-272.5 \" stroke=\"black\"/>\n",
       "<text font-family=\"Times,serif\" font-size=\"14.00\" text-anchor=\"middle\" x=\"241.5\" y=\"-257.3\">output:</text>\n",
       "<polyline fill=\"none\" points=\"269,-249.5 269,-295.5 \" stroke=\"black\"/>\n",
       "<text font-family=\"Times,serif\" font-size=\"14.00\" text-anchor=\"middle\" x=\"310.5\" y=\"-280.3\">(None, 128)</text>\n",
       "<polyline fill=\"none\" points=\"269,-272.5 352,-272.5 \" stroke=\"black\"/>\n",
       "<text font-family=\"Times,serif\" font-size=\"14.00\" text-anchor=\"middle\" x=\"310.5\" y=\"-257.3\">(None, 128)</text>\n",
       "</g>\n",
       "<!-- 140580989216656&#45;&gt;140580989352080 -->\n",
       "<g class=\"edge\" id=\"edge10\"><title>140580989216656-&gt;140580989352080</title>\n",
       "<path d=\"M199.5,-332.366C199.5,-324.152 199.5,-314.658 199.5,-305.725\" fill=\"none\" stroke=\"black\"/>\n",
       "<polygon fill=\"black\" points=\"203,-305.607 199.5,-295.607 196,-305.607 203,-305.607\" stroke=\"black\"/>\n",
       "</g>\n",
       "<!-- 140580989276816 -->\n",
       "<g class=\"node\" id=\"node12\"><title>140580989276816</title>\n",
       "<polygon fill=\"none\" points=\"59,-166.5 59,-212.5 340,-212.5 340,-166.5 59,-166.5\" stroke=\"black\"/>\n",
       "<text font-family=\"Times,serif\" font-size=\"14.00\" text-anchor=\"middle\" x=\"130.5\" y=\"-185.8\">dropout_138 (Dropout)</text>\n",
       "<polyline fill=\"none\" points=\"202,-166.5 202,-212.5 \" stroke=\"black\"/>\n",
       "<text font-family=\"Times,serif\" font-size=\"14.00\" text-anchor=\"middle\" x=\"229.5\" y=\"-197.3\">input:</text>\n",
       "<polyline fill=\"none\" points=\"202,-189.5 257,-189.5 \" stroke=\"black\"/>\n",
       "<text font-family=\"Times,serif\" font-size=\"14.00\" text-anchor=\"middle\" x=\"229.5\" y=\"-174.3\">output:</text>\n",
       "<polyline fill=\"none\" points=\"257,-166.5 257,-212.5 \" stroke=\"black\"/>\n",
       "<text font-family=\"Times,serif\" font-size=\"14.00\" text-anchor=\"middle\" x=\"298.5\" y=\"-197.3\">(None, 128)</text>\n",
       "<polyline fill=\"none\" points=\"257,-189.5 340,-189.5 \" stroke=\"black\"/>\n",
       "<text font-family=\"Times,serif\" font-size=\"14.00\" text-anchor=\"middle\" x=\"298.5\" y=\"-174.3\">(None, 128)</text>\n",
       "</g>\n",
       "<!-- 140580989352080&#45;&gt;140580989276816 -->\n",
       "<g class=\"edge\" id=\"edge11\"><title>140580989352080-&gt;140580989276816</title>\n",
       "<path d=\"M199.5,-249.366C199.5,-241.152 199.5,-231.658 199.5,-222.725\" fill=\"none\" stroke=\"black\"/>\n",
       "<polygon fill=\"black\" points=\"203,-222.607 199.5,-212.607 196,-222.607 203,-222.607\" stroke=\"black\"/>\n",
       "</g>\n",
       "<!-- 140580989278928 -->\n",
       "<g class=\"node\" id=\"node13\"><title>140580989278928</title>\n",
       "<polygon fill=\"none\" points=\"70,-83.5 70,-129.5 329,-129.5 329,-83.5 70,-83.5\" stroke=\"black\"/>\n",
       "<text font-family=\"Times,serif\" font-size=\"14.00\" text-anchor=\"middle\" x=\"130.5\" y=\"-102.8\">dense_137 (Dense)</text>\n",
       "<polyline fill=\"none\" points=\"191,-83.5 191,-129.5 \" stroke=\"black\"/>\n",
       "<text font-family=\"Times,serif\" font-size=\"14.00\" text-anchor=\"middle\" x=\"218.5\" y=\"-114.3\">input:</text>\n",
       "<polyline fill=\"none\" points=\"191,-106.5 246,-106.5 \" stroke=\"black\"/>\n",
       "<text font-family=\"Times,serif\" font-size=\"14.00\" text-anchor=\"middle\" x=\"218.5\" y=\"-91.3\">output:</text>\n",
       "<polyline fill=\"none\" points=\"246,-83.5 246,-129.5 \" stroke=\"black\"/>\n",
       "<text font-family=\"Times,serif\" font-size=\"14.00\" text-anchor=\"middle\" x=\"287.5\" y=\"-114.3\">(None, 128)</text>\n",
       "<polyline fill=\"none\" points=\"246,-106.5 329,-106.5 \" stroke=\"black\"/>\n",
       "<text font-family=\"Times,serif\" font-size=\"14.00\" text-anchor=\"middle\" x=\"287.5\" y=\"-91.3\">(None, 10)</text>\n",
       "</g>\n",
       "<!-- 140580989276816&#45;&gt;140580989278928 -->\n",
       "<g class=\"edge\" id=\"edge12\"><title>140580989276816-&gt;140580989278928</title>\n",
       "<path d=\"M199.5,-166.366C199.5,-158.152 199.5,-148.658 199.5,-139.725\" fill=\"none\" stroke=\"black\"/>\n",
       "<polygon fill=\"black\" points=\"203,-139.607 199.5,-129.607 196,-139.607 203,-139.607\" stroke=\"black\"/>\n",
       "</g>\n",
       "<!-- 140580989398096 -->\n",
       "<g class=\"node\" id=\"node14\"><title>140580989398096</title>\n",
       "<polygon fill=\"none\" points=\"50.5,-0.5 50.5,-46.5 348.5,-46.5 348.5,-0.5 50.5,-0.5\" stroke=\"black\"/>\n",
       "<text font-family=\"Times,serif\" font-size=\"14.00\" text-anchor=\"middle\" x=\"134\" y=\"-19.8\">activation_278 (Activation)</text>\n",
       "<polyline fill=\"none\" points=\"217.5,-0.5 217.5,-46.5 \" stroke=\"black\"/>\n",
       "<text font-family=\"Times,serif\" font-size=\"14.00\" text-anchor=\"middle\" x=\"245\" y=\"-31.3\">input:</text>\n",
       "<polyline fill=\"none\" points=\"217.5,-23.5 272.5,-23.5 \" stroke=\"black\"/>\n",
       "<text font-family=\"Times,serif\" font-size=\"14.00\" text-anchor=\"middle\" x=\"245\" y=\"-8.3\">output:</text>\n",
       "<polyline fill=\"none\" points=\"272.5,-0.5 272.5,-46.5 \" stroke=\"black\"/>\n",
       "<text font-family=\"Times,serif\" font-size=\"14.00\" text-anchor=\"middle\" x=\"310.5\" y=\"-31.3\">(None, 10)</text>\n",
       "<polyline fill=\"none\" points=\"272.5,-23.5 348.5,-23.5 \" stroke=\"black\"/>\n",
       "<text font-family=\"Times,serif\" font-size=\"14.00\" text-anchor=\"middle\" x=\"310.5\" y=\"-8.3\">(None, 10)</text>\n",
       "</g>\n",
       "<!-- 140580989278928&#45;&gt;140580989398096 -->\n",
       "<g class=\"edge\" id=\"edge13\"><title>140580989278928-&gt;140580989398096</title>\n",
       "<path d=\"M199.5,-83.3664C199.5,-75.1516 199.5,-65.6579 199.5,-56.7252\" fill=\"none\" stroke=\"black\"/>\n",
       "<polygon fill=\"black\" points=\"203,-56.6068 199.5,-46.6068 196,-56.6069 203,-56.6068\" stroke=\"black\"/>\n",
       "</g>\n",
       "</g>\n",
       "</svg>"
      ],
      "text/plain": [
       "<IPython.core.display.SVG object>"
      ]
     },
     "execution_count": 321,
     "metadata": {},
     "output_type": "execute_result"
    }
   ],
   "source": [
    "# visualizing the convnet\n",
    "\n",
    "from IPython.display import SVG\n",
    "from keras.utils.visualize_util import model_to_dot\n",
    "\n",
    "SVG(model_to_dot(model, show_shapes=True, \n",
    "                 show_layer_names=True).create(prog='dot', format='svg'))"
   ]
  },
  {
   "cell_type": "markdown",
   "metadata": {},
   "source": [
    "### Hyperparameter tuning"
   ]
  },
  {
   "cell_type": "markdown",
   "metadata": {},
   "source": [
    "Check https://github.com/maxpumperla/hyperas"
   ]
  },
  {
   "cell_type": "markdown",
   "metadata": {},
   "source": [
    "### Checking the misclassifications"
   ]
  },
  {
   "cell_type": "code",
   "execution_count": 363,
   "metadata": {
    "collapsed": false
   },
   "outputs": [
    {
     "name": "stdout",
     "output_type": "stream",
     "text": [
      "9940 correct classifications\n",
      "60 incorrect classifications\n"
     ]
    },
    {
     "data": {
      "image/png": "[encoded data removed]",
      "text/plain": [
       "<matplotlib.figure.Figure at 0x7fdb8c76dbd0>"
      ]
     },
     "metadata": {},
     "output_type": "display_data"
    },
    {
     "data": {
      "image/png": "[encoded data removed]",
      "text/plain": [
       "<matplotlib.figure.Figure at 0x7fdb7a541690>"
      ]
     },
     "metadata": {},
     "output_type": "display_data"
    }
   ],
   "source": [
    "inspect_classification_results(model, X_test, y_test)"
   ]
  },
  {
   "cell_type": "markdown",
   "metadata": {},
   "source": [
    "### Other optimizers"
   ]
  },
  {
   "cell_type": "code",
   "execution_count": 101,
   "metadata": {
    "collapsed": false
   },
   "outputs": [
    {
     "data": {
      "text/plain": [
       "'1.0.4'"
      ]
     },
     "execution_count": 101,
     "metadata": {},
     "output_type": "execute_result"
    }
   ],
   "source": [
    "import keras\n",
    "keras.__version__"
   ]
  },
  {
   "cell_type": "code",
   "execution_count": 102,
   "metadata": {
    "collapsed": true
   },
   "outputs": [
    {
     "ename": "ImportError",
     "evalue": "cannot import name Nadam",
     "output_type": "error",
     "traceback": [
      "\u001b[0;31m---------------------------------------------------------------------------\u001b[0m",
      "\u001b[0;31mImportError\u001b[0m                               Traceback (most recent call last)",
      "\u001b[0;32m<ipython-input-102-041535be513d>\u001b[0m in \u001b[0;36m<module>\u001b[0;34m()\u001b[0m\n\u001b[0;32m----> 1\u001b[0;31m \u001b[0;32mfrom\u001b[0m \u001b[0mkeras\u001b[0m\u001b[0;34m.\u001b[0m\u001b[0moptimizers\u001b[0m \u001b[0;32mimport\u001b[0m \u001b[0mNadam\u001b[0m\u001b[0;34m\u001b[0m\u001b[0m\n\u001b[0m",
      "\u001b[0;31mImportError\u001b[0m: cannot import name Nadam"
     ]
    }
   ],
   "source": [
    "from keras.optimizers import Nadam"
   ]
  },
  {
   "cell_type": "markdown",
   "metadata": {},
   "source": [
    "Now with Nadam optimizer (Nesterov Adam optimizer: Much like Adam is essentially RMSprop with momentum, Nadam is Adam RMSprop with Nesterov momentum). Does it change the LR?\n",
    "\n",
    "Nadam report - http://cs229.stanford.edu/proj2015/054_report.pdf [2] On the importance of initialization and momentum in deep learning - - http://www.cs.toronto.edu/~fritz/absps/momentum.pdf"
   ]
  },
  {
   "cell_type": "markdown",
   "metadata": {},
   "source": [
    "*Not yet **released**. I'll hae to come back and update keras*"
   ]
  },
  {
   "cell_type": "markdown",
   "metadata": {},
   "source": [
    "# IRNN"
   ]
  },
  {
   "cell_type": "markdown",
   "metadata": {},
   "source": [
    "This is a reproduction of the IRNN experiment\n",
    "with pixel-by-pixel sequential MNIST in\n",
    "\"A Simple Way to Initialize Recurrent Networks of Rectified Linear Units\"\n",
    "by Quoc V. Le, Navdeep Jaitly, Geoffrey E. Hinton\n",
    "arXiv:1504.00941v2 [cs.NE] 7 Apr 2015\n",
    "http://arxiv.org/pdf/1504.00941v2.pdf\n",
    "Optimizer is replaced with RMSprop which yields more stable and steady\n",
    "improvement.\n",
    "Reaches 0.93 train/test accuracy after 900 epochs\n",
    "(which roughly corresponds to 1687500 steps in the original paper.)"
   ]
  },
  {
   "cell_type": "code",
   "execution_count": 47,
   "metadata": {
    "collapsed": true
   },
   "outputs": [],
   "source": [
    "from keras.layers import SimpleRNN\n",
    "from keras.initializations import normal, identity\n"
   ]
  },
  {
   "cell_type": "code",
   "execution_count": 44,
   "metadata": {
    "collapsed": true
   },
   "outputs": [],
   "source": [
    "batch_size = 32\n",
    "nb_classes = 10\n",
    "hidden_units = 100\n",
    "\n",
    "learning_rate = 1e-6\n",
    "clip_norm = 1.0"
   ]
  },
  {
   "cell_type": "code",
   "execution_count": 45,
   "metadata": {
    "collapsed": false
   },
   "outputs": [
    {
     "name": "stdout",
     "output_type": "stream",
     "text": [
      "X_train shape: (60000, 784, 1)\n",
      "60000 train samples\n",
      "10000 test samples\n"
     ]
    }
   ],
   "source": [
    "# the data, shuffled and split between train and test sets\n",
    "(X_train, y_train), (X_test, y_test) = mnist.load_data()\n",
    "\n",
    "X_train = X_train.reshape(X_train.shape[0], -1, 1)\n",
    "X_test = X_test.reshape(X_test.shape[0], -1, 1)\n",
    "X_train = X_train.astype('float32')\n",
    "X_test = X_test.astype('float32')\n",
    "X_train /= 255\n",
    "X_test /= 255\n",
    "print('X_train shape:', X_train.shape)\n",
    "print(X_train.shape[0], 'train samples')\n",
    "print(X_test.shape[0], 'test samples')\n",
    "\n",
    "# convert class vectors to binary class matrices\n",
    "Y_train = np_utils.to_categorical(y_train, nb_classes)\n",
    "Y_test = np_utils.to_categorical(y_test, nb_classes)"
   ]
  },
  {
   "cell_type": "code",
   "execution_count": 48,
   "metadata": {
    "collapsed": false,
    "scrolled": true
   },
   "outputs": [
    {
     "name": "stdout",
     "output_type": "stream",
     "text": [
      "Evaluate IRNN...\n"
     ]
    }
   ],
   "source": [
    "print('Evaluate IRNN...')\n",
    "model = Sequential()\n",
    "model.add(SimpleRNN(output_dim=hidden_units,\n",
    "                    init=lambda shape, name: normal(shape, scale=0.001, name=name),\n",
    "                    inner_init=lambda shape, name: identity(shape, scale=1.0, name=name),\n",
    "                    activation='relu',\n",
    "                    input_shape=X_train.shape[1:]))\n",
    "model.add(Dense(nb_classes))\n",
    "model.add(Activation('softmax'))\n",
    "rmsprop = RMSprop(lr=learning_rate)\n",
    "model.compile(loss='categorical_crossentropy',\n",
    "              optimizer=rmsprop,\n",
    "              metrics=['accuracy'])"
   ]
  },
  {
   "cell_type": "code",
   "execution_count": 50,
   "metadata": {
    "collapsed": true
   },
   "outputs": [],
   "source": [
    "nb_epochs = 100"
   ]
  },
  {
   "cell_type": "code",
   "execution_count": null,
   "metadata": {
    "collapsed": true
   },
   "outputs": [
    {
     "name": "stdout",
     "output_type": "stream",
     "text": [
      "Train on 60000 samples, validate on 10000 samples\n",
      "Epoch 1/100\n",
      "60000/60000 [==============================] - 167s - loss: 1.9600 - acc: 0.2636 - val_loss: 1.8686 - val_acc: 0.3021\n",
      "Epoch 2/100\n",
      "60000/60000 [==============================] - 174s - loss: 1.7898 - acc: 0.3332 - val_loss: 1.6924 - val_acc: 0.4050\n",
      "Epoch 3/100\n",
      "60000/60000 [==============================] - 166s - loss: 1.6500 - acc: 0.4004 - val_loss: 1.5803 - val_acc: 0.4368\n",
      "Epoch 4/100\n",
      "60000/60000 [==============================] - 175s - loss: 1.5754 - acc: 0.4309 - val_loss: 1.5243 - val_acc: 0.4630\n",
      "Epoch 5/100\n",
      "60000/60000 [==============================] - 179s - loss: 1.5246 - acc: 0.4496 - val_loss: 1.5192 - val_acc: 0.4481\n",
      "Epoch 6/100\n",
      "60000/60000 [==============================] - 164s - loss: 1.4822 - acc: 0.4694 - val_loss: 1.4530 - val_acc: 0.4813\n",
      "Epoch 7/100\n",
      "60000/60000 [==============================] - 169s - loss: 1.4312 - acc: 0.4902 - val_loss: 1.3671 - val_acc: 0.5193\n",
      "Epoch 8/100\n",
      "60000/60000 [==============================] - 174s - loss: 1.3269 - acc: 0.5341 - val_loss: 1.2465 - val_acc: 0.5601\n",
      "Epoch 9/100\n",
      "60000/60000 [==============================] - 177s - loss: 1.2009 - acc: 0.5738 - val_loss: 1.1557 - val_acc: 0.5853\n",
      "Epoch 10/100\n",
      "60000/60000 [==============================] - 173s - loss: 1.1565 - acc: 0.5878 - val_loss: 1.1296 - val_acc: 0.6013\n",
      "Epoch 11/100\n",
      "60000/60000 [==============================] - 169s - loss: 1.1368 - acc: 0.5968 - val_loss: 1.0879 - val_acc: 0.6159\n",
      "Epoch 12/100\n",
      "60000/60000 [==============================] - 172s - loss: 1.1248 - acc: 0.5970 - val_loss: 1.0757 - val_acc: 0.6188\n",
      "Epoch 13/100\n",
      "60000/60000 [==============================] - 179s - loss: 1.1140 - acc: 0.6030 - val_loss: 1.1464 - val_acc: 0.5869\n",
      "Epoch 14/100\n",
      "60000/60000 [==============================] - 176s - loss: 1.1054 - acc: 0.6056 - val_loss: 1.1273 - val_acc: 0.5983\n",
      "Epoch 15/100\n",
      "60000/60000 [==============================] - 178s - loss: 1.0977 - acc: 0.6113 - val_loss: 1.0464 - val_acc: 0.6297\n",
      "Epoch 16/100\n",
      "60000/60000 [==============================] - 174s - loss: 1.0898 - acc: 0.6128 - val_loss: 1.1129 - val_acc: 0.6005\n",
      "Epoch 17/100\n",
      "60000/60000 [==============================] - 171s - loss: 1.0830 - acc: 0.6149 - val_loss: 1.0349 - val_acc: 0.6344\n",
      "Epoch 18/100\n",
      "60000/60000 [==============================] - 173s - loss: 1.0784 - acc: 0.6167 - val_loss: 1.0918 - val_acc: 0.6034\n",
      "Epoch 19/100\n",
      "60000/60000 [==============================] - 170s - loss: 1.0734 - acc: 0.6186 - val_loss: 1.0316 - val_acc: 0.6380\n",
      "Epoch 20/100\n",
      "60000/60000 [==============================] - 171s - loss: 1.0650 - acc: 0.6215 - val_loss: 1.0604 - val_acc: 0.6174\n",
      "Epoch 21/100\n",
      "60000/60000 [==============================] - 171s - loss: 1.0595 - acc: 0.6239 - val_loss: 1.0327 - val_acc: 0.6336\n",
      "Epoch 22/100\n",
      "60000/60000 [==============================] - 173s - loss: 1.0518 - acc: 0.6268 - val_loss: 1.0288 - val_acc: 0.6343\n",
      "Epoch 23/100\n",
      "60000/60000 [==============================] - 182s - loss: 1.0475 - acc: 0.6267 - val_loss: 1.0027 - val_acc: 0.6433\n",
      "Epoch 24/100\n",
      "60000/60000 [==============================] - 169s - loss: 1.0437 - acc: 0.6288 - val_loss: 1.0334 - val_acc: 0.6293\n",
      "Epoch 25/100\n",
      "60000/60000 [==============================] - 175s - loss: 1.0399 - acc: 0.6296 - val_loss: 1.0939 - val_acc: 0.6016\n",
      "Epoch 26/100\n",
      "60000/60000 [==============================] - 181s - loss: 1.0339 - acc: 0.6299 - val_loss: 1.0321 - val_acc: 0.6326\n",
      "Epoch 27/100\n",
      "60000/60000 [==============================] - 177s - loss: 1.0322 - acc: 0.6327 - val_loss: 1.0003 - val_acc: 0.6392\n",
      "Epoch 28/100\n",
      "60000/60000 [==============================] - 179s - loss: 1.0255 - acc: 0.6319 - val_loss: 1.0412 - val_acc: 0.6199\n",
      "Epoch 29/100\n",
      "60000/60000 [==============================] - 178s - loss: 1.0227 - acc: 0.6341 - val_loss: 1.0201 - val_acc: 0.6319\n",
      "Epoch 30/100\n",
      "60000/60000 [==============================] - 171s - loss: 1.0191 - acc: 0.6356 - val_loss: 0.9959 - val_acc: 0.6430\n",
      "Epoch 31/100\n",
      "60000/60000 [==============================] - 178s - loss: 1.0137 - acc: 0.6345 - val_loss: 0.9998 - val_acc: 0.6362\n",
      "Epoch 32/100\n",
      "60000/60000 [==============================] - 168s - loss: 1.0101 - acc: 0.6369 - val_loss: 1.0279 - val_acc: 0.6292\n",
      "Epoch 33/100\n",
      "60000/60000 [==============================] - 172s - loss: 1.0054 - acc: 0.6384 - val_loss: 0.9940 - val_acc: 0.6418\n",
      "Epoch 34/100\n",
      "60000/60000 [==============================] - 178s - loss: 0.9992 - acc: 0.6395 - val_loss: 1.0294 - val_acc: 0.6247\n",
      "Epoch 35/100\n",
      "60000/60000 [==============================] - 172s - loss: 0.9967 - acc: 0.6406 - val_loss: 0.9743 - val_acc: 0.6514\n",
      "Epoch 36/100\n",
      "60000/60000 [==============================] - 172s - loss: 0.9907 - acc: 0.6421 - val_loss: 0.9972 - val_acc: 0.6469\n",
      "Epoch 37/100\n",
      "60000/60000 [==============================] - 177s - loss: 0.9855 - acc: 0.6448 - val_loss: 0.9486 - val_acc: 0.6564\n",
      "Epoch 38/100\n",
      "60000/60000 [==============================] - 177s - loss: 0.9823 - acc: 0.6457 - val_loss: 0.9456 - val_acc: 0.6566\n",
      "Epoch 39/100\n",
      "60000/60000 [==============================] - 184s - loss: 0.9766 - acc: 0.6462 - val_loss: 0.9870 - val_acc: 0.6466\n",
      "Epoch 40/100\n",
      "60000/60000 [==============================] - 180s - loss: 0.9716 - acc: 0.6493 - val_loss: 0.9453 - val_acc: 0.6592\n",
      "Epoch 41/100\n",
      "60000/60000 [==============================] - 175s - loss: 0.9657 - acc: 0.6516 - val_loss: 0.9357 - val_acc: 0.6581\n",
      "Epoch 42/100\n",
      "60000/60000 [==============================] - 175s - loss: 0.9585 - acc: 0.6541 - val_loss: 0.9427 - val_acc: 0.6585\n",
      "Epoch 43/100\n",
      "60000/60000 [==============================] - 173s - loss: 0.9533 - acc: 0.6553 - val_loss: 0.9192 - val_acc: 0.6700\n",
      "Epoch 44/100\n",
      "60000/60000 [==============================] - 181s - loss: 0.9486 - acc: 0.6566 - val_loss: 0.9216 - val_acc: 0.6601\n",
      "Epoch 45/100\n",
      "60000/60000 [==============================] - 181s - loss: 0.9429 - acc: 0.6589 - val_loss: 0.9117 - val_acc: 0.6700\n",
      "Epoch 46/100\n",
      "60000/60000 [==============================] - 176s - loss: 0.8783 - acc: 0.6817 - val_loss: 0.8437 - val_acc: 0.6980\n",
      "Epoch 55/100\n",
      "33792/60000 [===============>..............] - ETA: 74s - loss: 0.8733 - acc: 0.6807"
     ]
    }
   ],
   "source": [
    "%%time\n",
    "\n",
    "model.fit(X_train, Y_train, batch_size=batch_size, nb_epoch=nb_epochs,\n",
    "          verbose=1, validation_data=(X_test, Y_test))\n",
    "\n",
    "scores = model.evaluate(X_test, Y_test, verbose=0)\n",
    "print('IRNN test score:', scores[0])\n",
    "print('IRNN test accuracy:', scores[1])"
   ]
  },
  {
   "cell_type": "code",
   "execution_count": 52,
   "metadata": {
    "collapsed": false
   },
   "outputs": [
    {
     "name": "stdout",
     "output_type": "stream",
     "text": [
      "IRNN test score: 0.524374077368\n",
      "IRNN test accuracy: 0.8147\n"
     ]
    }
   ],
   "source": [
    "print('IRNN test score:', scores[0])\n",
    "print('IRNN test accuracy:', scores[1])"
   ]
  },
  {
   "cell_type": "markdown",
   "metadata": {},
   "source": [
    "Few hours training, very slow improve in accuracy... 100 epochs wasn't enough, apparently it needed 200 epochs."
   ]
  },
  {
   "cell_type": "markdown",
   "metadata": {},
   "source": [
    "# Overfeat"
   ]
  },
  {
   "cell_type": "markdown",
   "metadata": {},
   "source": [
    "http://www.image-net.org/challenges/LSVRC/2013/slides/overfeat_ilsvrc2013.pdf\n",
    "\n",
    "https://arxiv.org/pdf/1312.6229.pdf"
   ]
  },
  {
   "cell_type": "markdown",
   "metadata": {},
   "source": [
    "An adaptation of the 'fast' model from AlexNet applied to MNIST-10."
   ]
  },
  {
   "cell_type": "code",
   "execution_count": 337,
   "metadata": {
    "collapsed": true
   },
   "outputs": [],
   "source": [
    "(X_train, y_train), (X_test, y_test) = mnist.load_data()\n",
    "X_train = X_train.reshape(X_train.shape[0], 1, 28, 28).astype('float32') / 255\n",
    "X_test = X_test.reshape(X_test.shape[0], 1, 28, 28).astype('float32') / 255\n",
    "Y_train = np_utils.to_categorical(y_train, 10)\n",
    "Y_test = np_utils.to_categorical(y_test, 10)"
   ]
  },
  {
   "cell_type": "code",
   "execution_count": 340,
   "metadata": {
    "collapsed": true
   },
   "outputs": [],
   "source": [
    "from keras.layers import ZeroPadding2D"
   ]
  },
  {
   "cell_type": "code",
   "execution_count": 341,
   "metadata": {
    "collapsed": true
   },
   "outputs": [
    {
     "ename": "MemoryError",
     "evalue": "('Error allocating 452984832 bytes of device memory (out of memory).', \"you might consider using 'theano.shared(..., borrow=True)'\")",
     "output_type": "error",
     "traceback": [
      "\u001b[0;31m---------------------------------------------------------------------------\u001b[0m",
      "\u001b[0;31mMemoryError\u001b[0m                               Traceback (most recent call last)",
      "\u001b[0;32m<ipython-input-341-59d723569710>\u001b[0m in \u001b[0;36m<module>\u001b[0;34m()\u001b[0m\n\u001b[1;32m     29\u001b[0m \u001b[0;31m# Layer 6\u001b[0m\u001b[0;34m\u001b[0m\u001b[0;34m\u001b[0m\u001b[0m\n\u001b[1;32m     30\u001b[0m \u001b[0mmodel\u001b[0m\u001b[0;34m.\u001b[0m\u001b[0madd\u001b[0m\u001b[0;34m(\u001b[0m\u001b[0mFlatten\u001b[0m\u001b[0;34m(\u001b[0m\u001b[0;34m)\u001b[0m\u001b[0;34m)\u001b[0m\u001b[0;34m\u001b[0m\u001b[0m\n\u001b[0;32m---> 31\u001b[0;31m \u001b[0mmodel\u001b[0m\u001b[0;34m.\u001b[0m\u001b[0madd\u001b[0m\u001b[0;34m(\u001b[0m\u001b[0mDense\u001b[0m\u001b[0;34m(\u001b[0m\u001b[0;36m3072\u001b[0m\u001b[0;34m,\u001b[0m \u001b[0minit\u001b[0m\u001b[0;34m=\u001b[0m\u001b[0;34m'glorot_normal'\u001b[0m\u001b[0;34m)\u001b[0m\u001b[0;34m)\u001b[0m\u001b[0;34m\u001b[0m\u001b[0m\n\u001b[0m\u001b[1;32m     32\u001b[0m \u001b[0mmodel\u001b[0m\u001b[0;34m.\u001b[0m\u001b[0madd\u001b[0m\u001b[0;34m(\u001b[0m\u001b[0mActivation\u001b[0m\u001b[0;34m(\u001b[0m\u001b[0;34m'relu'\u001b[0m\u001b[0;34m)\u001b[0m\u001b[0;34m)\u001b[0m\u001b[0;34m\u001b[0m\u001b[0m\n\u001b[1;32m     33\u001b[0m \u001b[0mmodel\u001b[0m\u001b[0;34m.\u001b[0m\u001b[0madd\u001b[0m\u001b[0;34m(\u001b[0m\u001b[0mDropout\u001b[0m\u001b[0;34m(\u001b[0m\u001b[0;36m0.5\u001b[0m\u001b[0;34m)\u001b[0m\u001b[0;34m)\u001b[0m\u001b[0;34m\u001b[0m\u001b[0m\n",
      "\u001b[0;32m/opt/anaconda/lib/python2.7/site-packages/keras/models.pyc\u001b[0m in \u001b[0;36madd\u001b[0;34m(self, layer)\u001b[0m\n\u001b[1;32m    143\u001b[0m                  output_shapes=[self.outputs[0]._keras_shape])\n\u001b[1;32m    144\u001b[0m         \u001b[0;32melse\u001b[0m\u001b[0;34m:\u001b[0m\u001b[0;34m\u001b[0m\u001b[0m\n\u001b[0;32m--> 145\u001b[0;31m             \u001b[0moutput_tensor\u001b[0m \u001b[0;34m=\u001b[0m \u001b[0mlayer\u001b[0m\u001b[0;34m(\u001b[0m\u001b[0mself\u001b[0m\u001b[0;34m.\u001b[0m\u001b[0moutputs\u001b[0m\u001b[0;34m[\u001b[0m\u001b[0;36m0\u001b[0m\u001b[0;34m]\u001b[0m\u001b[0;34m)\u001b[0m\u001b[0;34m\u001b[0m\u001b[0m\n\u001b[0m\u001b[1;32m    146\u001b[0m             \u001b[0;32mif\u001b[0m \u001b[0mtype\u001b[0m\u001b[0;34m(\u001b[0m\u001b[0moutput_tensor\u001b[0m\u001b[0;34m)\u001b[0m \u001b[0;32mis\u001b[0m \u001b[0mlist\u001b[0m\u001b[0;34m:\u001b[0m\u001b[0;34m\u001b[0m\u001b[0m\n\u001b[1;32m    147\u001b[0m                 raise Exception('All layers in a Sequential model '\n",
      "\u001b[0;32m/opt/anaconda/lib/python2.7/site-packages/keras/engine/topology.pyc\u001b[0m in \u001b[0;36m__call__\u001b[0;34m(self, x, mask)\u001b[0m\n\u001b[1;32m    456\u001b[0m                                     '`layer.build(batch_input_shape)`')\n\u001b[1;32m    457\u001b[0m             \u001b[0;32mif\u001b[0m \u001b[0mlen\u001b[0m\u001b[0;34m(\u001b[0m\u001b[0minput_shapes\u001b[0m\u001b[0;34m)\u001b[0m \u001b[0;34m==\u001b[0m \u001b[0;36m1\u001b[0m\u001b[0;34m:\u001b[0m\u001b[0;34m\u001b[0m\u001b[0m\n\u001b[0;32m--> 458\u001b[0;31m                 \u001b[0mself\u001b[0m\u001b[0;34m.\u001b[0m\u001b[0mbuild\u001b[0m\u001b[0;34m(\u001b[0m\u001b[0minput_shapes\u001b[0m\u001b[0;34m[\u001b[0m\u001b[0;36m0\u001b[0m\u001b[0;34m]\u001b[0m\u001b[0;34m)\u001b[0m\u001b[0;34m\u001b[0m\u001b[0m\n\u001b[0m\u001b[1;32m    459\u001b[0m             \u001b[0;32melse\u001b[0m\u001b[0;34m:\u001b[0m\u001b[0;34m\u001b[0m\u001b[0m\n\u001b[1;32m    460\u001b[0m                 \u001b[0mself\u001b[0m\u001b[0;34m.\u001b[0m\u001b[0mbuild\u001b[0m\u001b[0;34m(\u001b[0m\u001b[0minput_shapes\u001b[0m\u001b[0;34m)\u001b[0m\u001b[0;34m\u001b[0m\u001b[0m\n",
      "\u001b[0;32m/opt/anaconda/lib/python2.7/site-packages/keras/layers/core.pyc\u001b[0m in \u001b[0;36mbuild\u001b[0;34m(self, input_shape)\u001b[0m\n\u001b[1;32m    593\u001b[0m \u001b[0;34m\u001b[0m\u001b[0m\n\u001b[1;32m    594\u001b[0m         self.W = self.init((input_dim, self.output_dim),\n\u001b[0;32m--> 595\u001b[0;31m                            name='{}_W'.format(self.name))\n\u001b[0m\u001b[1;32m    596\u001b[0m         \u001b[0;32mif\u001b[0m \u001b[0mself\u001b[0m\u001b[0;34m.\u001b[0m\u001b[0mbias\u001b[0m\u001b[0;34m:\u001b[0m\u001b[0;34m\u001b[0m\u001b[0m\n\u001b[1;32m    597\u001b[0m             self.b = K.zeros((self.output_dim,),\n",
      "\u001b[0;32m/opt/anaconda/lib/python2.7/site-packages/keras/initializations.pyc\u001b[0m in \u001b[0;36mglorot_normal\u001b[0;34m(shape, name, dim_ordering)\u001b[0m\n\u001b[1;32m     53\u001b[0m     \u001b[0mfan_in\u001b[0m\u001b[0;34m,\u001b[0m \u001b[0mfan_out\u001b[0m \u001b[0;34m=\u001b[0m \u001b[0mget_fans\u001b[0m\u001b[0;34m(\u001b[0m\u001b[0mshape\u001b[0m\u001b[0;34m,\u001b[0m \u001b[0mdim_ordering\u001b[0m\u001b[0;34m=\u001b[0m\u001b[0mdim_ordering\u001b[0m\u001b[0;34m)\u001b[0m\u001b[0;34m\u001b[0m\u001b[0m\n\u001b[1;32m     54\u001b[0m     \u001b[0ms\u001b[0m \u001b[0;34m=\u001b[0m \u001b[0mnp\u001b[0m\u001b[0;34m.\u001b[0m\u001b[0msqrt\u001b[0m\u001b[0;34m(\u001b[0m\u001b[0;36m2.\u001b[0m \u001b[0;34m/\u001b[0m \u001b[0;34m(\u001b[0m\u001b[0mfan_in\u001b[0m \u001b[0;34m+\u001b[0m \u001b[0mfan_out\u001b[0m\u001b[0;34m)\u001b[0m\u001b[0;34m)\u001b[0m\u001b[0;34m\u001b[0m\u001b[0m\n\u001b[0;32m---> 55\u001b[0;31m     \u001b[0;32mreturn\u001b[0m \u001b[0mnormal\u001b[0m\u001b[0;34m(\u001b[0m\u001b[0mshape\u001b[0m\u001b[0;34m,\u001b[0m \u001b[0ms\u001b[0m\u001b[0;34m,\u001b[0m \u001b[0mname\u001b[0m\u001b[0;34m=\u001b[0m\u001b[0mname\u001b[0m\u001b[0;34m)\u001b[0m\u001b[0;34m\u001b[0m\u001b[0m\n\u001b[0m\u001b[1;32m     56\u001b[0m \u001b[0;34m\u001b[0m\u001b[0m\n\u001b[1;32m     57\u001b[0m \u001b[0;34m\u001b[0m\u001b[0m\n",
      "\u001b[0;32m/opt/anaconda/lib/python2.7/site-packages/keras/initializations.pyc\u001b[0m in \u001b[0;36mnormal\u001b[0;34m(shape, scale, name)\u001b[0m\n\u001b[1;32m     36\u001b[0m \u001b[0;32mdef\u001b[0m \u001b[0mnormal\u001b[0m\u001b[0;34m(\u001b[0m\u001b[0mshape\u001b[0m\u001b[0;34m,\u001b[0m \u001b[0mscale\u001b[0m\u001b[0;34m=\u001b[0m\u001b[0;36m0.05\u001b[0m\u001b[0;34m,\u001b[0m \u001b[0mname\u001b[0m\u001b[0;34m=\u001b[0m\u001b[0mNone\u001b[0m\u001b[0;34m)\u001b[0m\u001b[0;34m:\u001b[0m\u001b[0;34m\u001b[0m\u001b[0m\n\u001b[1;32m     37\u001b[0m     return K.variable(np.random.normal(loc=0.0, scale=scale, size=shape),\n\u001b[0;32m---> 38\u001b[0;31m                       name=name)\n\u001b[0m\u001b[1;32m     39\u001b[0m \u001b[0;34m\u001b[0m\u001b[0m\n\u001b[1;32m     40\u001b[0m \u001b[0;34m\u001b[0m\u001b[0m\n",
      "\u001b[0;32m/opt/anaconda/lib/python2.7/site-packages/keras/backend/theano_backend.pyc\u001b[0m in \u001b[0;36mvariable\u001b[0;34m(value, dtype, name)\u001b[0m\n\u001b[1;32m     29\u001b[0m     '''\n\u001b[1;32m     30\u001b[0m     \u001b[0mvalue\u001b[0m \u001b[0;34m=\u001b[0m \u001b[0mnp\u001b[0m\u001b[0;34m.\u001b[0m\u001b[0masarray\u001b[0m\u001b[0;34m(\u001b[0m\u001b[0mvalue\u001b[0m\u001b[0;34m,\u001b[0m \u001b[0mdtype\u001b[0m\u001b[0;34m=\u001b[0m\u001b[0mdtype\u001b[0m\u001b[0;34m)\u001b[0m\u001b[0;34m\u001b[0m\u001b[0m\n\u001b[0;32m---> 31\u001b[0;31m     \u001b[0;32mreturn\u001b[0m \u001b[0mtheano\u001b[0m\u001b[0;34m.\u001b[0m\u001b[0mshared\u001b[0m\u001b[0;34m(\u001b[0m\u001b[0mvalue\u001b[0m\u001b[0;34m=\u001b[0m\u001b[0mvalue\u001b[0m\u001b[0;34m,\u001b[0m \u001b[0mname\u001b[0m\u001b[0;34m=\u001b[0m\u001b[0mname\u001b[0m\u001b[0;34m,\u001b[0m \u001b[0mstrict\u001b[0m\u001b[0;34m=\u001b[0m\u001b[0mFalse\u001b[0m\u001b[0;34m)\u001b[0m\u001b[0;34m\u001b[0m\u001b[0m\n\u001b[0m\u001b[1;32m     32\u001b[0m \u001b[0;34m\u001b[0m\u001b[0m\n\u001b[1;32m     33\u001b[0m \u001b[0;34m\u001b[0m\u001b[0m\n",
      "\u001b[0;32m/opt/anaconda/lib/python2.7/site-packages/theano/compile/sharedvalue.pyc\u001b[0m in \u001b[0;36mshared\u001b[0;34m(value, name, strict, allow_downcast, **kwargs)\u001b[0m\n\u001b[1;32m    245\u001b[0m             \u001b[0;32mtry\u001b[0m\u001b[0;34m:\u001b[0m\u001b[0;34m\u001b[0m\u001b[0m\n\u001b[1;32m    246\u001b[0m                 var = ctor(value, name=name, strict=strict,\n\u001b[0;32m--> 247\u001b[0;31m                            allow_downcast=allow_downcast, **kwargs)\n\u001b[0m\u001b[1;32m    248\u001b[0m                 \u001b[0mutils\u001b[0m\u001b[0;34m.\u001b[0m\u001b[0madd_tag_trace\u001b[0m\u001b[0;34m(\u001b[0m\u001b[0mvar\u001b[0m\u001b[0;34m)\u001b[0m\u001b[0;34m\u001b[0m\u001b[0m\n\u001b[1;32m    249\u001b[0m                 \u001b[0;32mreturn\u001b[0m \u001b[0mvar\u001b[0m\u001b[0;34m\u001b[0m\u001b[0m\n",
      "\u001b[0;32m/opt/anaconda/lib/python2.7/site-packages/theano/sandbox/cuda/var.pyc\u001b[0m in \u001b[0;36mfloat32_shared_constructor\u001b[0;34m(value, name, strict, allow_downcast, borrow, broadcastable, target)\u001b[0m\n\u001b[1;32m    240\u001b[0m         \u001b[0;31m# type.broadcastable is guaranteed to be a tuple, which this next\u001b[0m\u001b[0;34m\u001b[0m\u001b[0;34m\u001b[0m\u001b[0m\n\u001b[1;32m    241\u001b[0m         \u001b[0;31m# function requires\u001b[0m\u001b[0;34m\u001b[0m\u001b[0;34m\u001b[0m\u001b[0m\n\u001b[0;32m--> 242\u001b[0;31m         \u001b[0mdeviceval\u001b[0m \u001b[0;34m=\u001b[0m \u001b[0mtype_support_filter\u001b[0m\u001b[0;34m(\u001b[0m\u001b[0mvalue\u001b[0m\u001b[0;34m,\u001b[0m \u001b[0mtype\u001b[0m\u001b[0;34m.\u001b[0m\u001b[0mbroadcastable\u001b[0m\u001b[0;34m,\u001b[0m \u001b[0mFalse\u001b[0m\u001b[0;34m,\u001b[0m \u001b[0mNone\u001b[0m\u001b[0;34m)\u001b[0m\u001b[0;34m\u001b[0m\u001b[0m\n\u001b[0m\u001b[1;32m    243\u001b[0m \u001b[0;34m\u001b[0m\u001b[0m\n\u001b[1;32m    244\u001b[0m     \u001b[0;32mtry\u001b[0m\u001b[0;34m:\u001b[0m\u001b[0;34m\u001b[0m\u001b[0m\n",
      "\u001b[0;31mMemoryError\u001b[0m: ('Error allocating 452984832 bytes of device memory (out of memory).', \"you might consider using 'theano.shared(..., borrow=True)'\")"
     ]
    }
   ],
   "source": [
    "model = Sequential()\n",
    "\n",
    "# Layer 1\n",
    "model.add(Convolution2D(96, 11, 11, input_shape = (1,28,28), border_mode='same'))\n",
    "model.add(Activation('relu'))\n",
    "model.add(MaxPooling2D(pool_size=(2, 2)))\n",
    "\n",
    "# Layer 2\n",
    "model.add(Convolution2D(256, 5, 5, border_mode='same'))\n",
    "model.add(Activation('relu'))\n",
    "model.add(MaxPooling2D(pool_size=(2, 2)))\n",
    "\n",
    "# Layer 3\n",
    "model.add(ZeroPadding2D((1,1)))\n",
    "model.add(Convolution2D(512, 3, 3, border_mode='same'))\n",
    "model.add(Activation('relu'))\n",
    "\n",
    "# Layer 4\n",
    "model.add(ZeroPadding2D((1,1)))\n",
    "model.add(Convolution2D(1024, 3, 3, border_mode='same'))\n",
    "model.add(Activation('relu'))\n",
    "\n",
    "# Layer 5\n",
    "model.add(ZeroPadding2D((1,1)))\n",
    "model.add(Convolution2D(1024, 3, 3, border_mode='same'))\n",
    "model.add(Activation('relu'))\n",
    "model.add(MaxPooling2D(pool_size=(2, 2)))\n",
    "\n",
    "# Layer 6\n",
    "model.add(Flatten())\n",
    "model.add(Dense(3072, init='glorot_normal'))\n",
    "model.add(Activation('relu'))\n",
    "model.add(Dropout(0.5))\n",
    "\n",
    "# Layer 7\n",
    "model.add(Dense(4096, init='glorot_normal'))\n",
    "model.add(Activation('relu'))\n",
    "model.add(Dropout(0.5))\n",
    "\n",
    "# Layer 8\n",
    "model.add(Dense(10, init='glorot_normal'))\n",
    "model.add(Activation('softmax'))"
   ]
  },
  {
   "cell_type": "markdown",
   "metadata": {},
   "source": [
    "training this model (even on MNIST-10) is quite time consuming"
   ]
  },
  {
   "cell_type": "code",
   "execution_count": null,
   "metadata": {
    "collapsed": false
   },
   "outputs": [],
   "source": [
    "model.compile(loss='categorical_crossentropy', optimizer=Adam())\n",
    "model.fit(X_train[:10], Y_train[:10], batch_size=1, nb_epoch=1,\n",
    "          verbose=2, show_accuracy=True)"
   ]
  },
  {
   "cell_type": "markdown",
   "metadata": {},
   "source": [
    "GPU not powerful enough???"
   ]
  },
  {
   "cell_type": "markdown",
   "metadata": {
    "collapsed": true
   },
   "source": [
    "# LENET-5, example of making a function of the CNN"
   ]
  },
  {
   "cell_type": "markdown",
   "metadata": {},
   "source": [
    "http://codingplayground.blogspot.be/2016/05/demystifying-deep-learning-series-hands.html\n",
    "http://codingplayground.blogspot.be/2016/05/demystifying-deep-learning-explaining.html"
   ]
  },
  {
   "cell_type": "code",
   "execution_count": 79,
   "metadata": {
    "collapsed": false
   },
   "outputs": [],
   "source": [
    "import numpy as np\n",
    "import matplotlib.pyplot as plt\n",
    "import time\n",
    "np.random.seed(1111)  # for reproducibility\n",
    "  \n",
    "from keras.datasets import mnist\n",
    "from keras.models import Sequential\n",
    "from keras.layers.core import Dense, Dropout, Activation, Flatten\n",
    "from keras.layers.convolutional import Convolution2D, MaxPooling2D\n",
    "from keras.utils import np_utils\n",
    "from keras.regularizers import l2, activity_l2\n",
    "from keras.utils.visualize_util import plot\n",
    "from keras.optimizers import SGD, Adam, RMSprop, Adagrad\n",
    "from keras.callbacks import EarlyStopping\n",
    " \n",
    "import inspect\n",
    " \n",
    "#\n",
    "# save the graph produced by the experiment\n",
    "#\n",
    "def print_Graph(fitlog, elapsed, args, values):\n",
    "    \"\"\"\n",
    "    fitlog : Training log\n",
    "    elapsed : elapsed time\n",
    "    args : input parameters for the experiment\n",
    "    values : input values for the experiment\n",
    "    \"\"\"\n",
    "    experiment_label = \"\\n\".join(['%s=%s' % (i, values[i]) for i in args])\n",
    "    experiment_file = experiment_label+\"-Time= %02d\" % elapsed + \"sec\"\n",
    "    experiment_file = experiment_file.replace(\"\\n\", \"-\")+'.png'\n",
    "\n",
    "    fig = plt.figure(figsize=(10, 6))\n",
    "    plt.plot(fitlog.history[\"val_acc\"])\n",
    "    plt.title('val_accuracy')\n",
    "    plt.ylabel('val_accuracy')\n",
    "    plt.xlabel('iteration')\n",
    "    fig.text(.7,.15,experiment_label, size='6')\n",
    "    plt.savefig(experiment_file, format=\"png\")\n",
    "    \n",
    "    \n",
    "#\n",
    "# A LeNet-like convnet for classifying MINST handwritten characters 28x28\n",
    "#\n",
    "def convNet_LeNet(VERBOSE=1, NORMALIZE=True, BATCH_SIZE=128, NUM_EPOCHS=12,\n",
    "                  NUM_FILTERS=32, NUM_POOL=2, NUM_CONV=3, DROPOUT_RATE=0.5,\n",
    "                  NUM_HIDDEN=128, VALIDATION_SPLIT=0.2,\n",
    "                  OPTIMIZER=SGD(lr=0.01,decay=1e-6,\n",
    "                                momentum=0.9,nesterov=True)):\n",
    "    \"\"\"\n",
    "    NUM_FILTERS : Number of convolutional filters \n",
    "    NUM_POOL : side length of maxpooling square\n",
    "    NUM_CONV : side length of convolution square\n",
    "    DROPOUT_RATE : dropout rate for regularization\n",
    "    NUM_HIDDEN : hidden number of neurons first layer\n",
    "    VALIDATION_SPLIT : validation data\n",
    "    \"\"\" \n",
    "    # Output classes, number of MINST DIGITS\n",
    "    NUM_CLASSES = 10\n",
    "    # Shape of an MINST digit image\n",
    "    SHAPE_X, SHAPE_Y = 28, 28\n",
    "    # Channels on MINST\n",
    "    IMG_CHANNELS = 1\n",
    "\n",
    "    # LOAD the MINST DATA split in training and test data\n",
    "    (X_train, Y_train), (X_test, Y_test) = mnist.load_data()\n",
    "    X_train = X_train.reshape(X_train.shape[0], 1, SHAPE_X, SHAPE_Y)\n",
    "    X_test = X_test.reshape(X_test.shape[0], 1, SHAPE_X, SHAPE_Y)\n",
    "\n",
    "    # convert in float32 representation for GPU computation\n",
    "    X_train = X_train.astype(\"float32\")\n",
    "    X_test = X_test.astype(\"float32\")\n",
    "\n",
    "    if (NORMALIZE):\n",
    "        # NORMALIZE each pixerl by dividing by max_value=255\n",
    "        X_train /= 255\n",
    "        X_test /= 255\n",
    "    print('X_train shape:', X_train.shape)\n",
    "    print(X_train.shape[0], 'train samples')\n",
    "    print(X_test.shape[0], 'test samples')\n",
    "\n",
    "    # KERAS needs to represent each output class into OHE representation\n",
    "    Y_train = np_utils.to_categorical(Y_train, NUM_CLASSES)\n",
    "    Y_test = np_utils.to_categorical(Y_test, NUM_CLASSES)\n",
    "\n",
    "    nn = Sequential()\n",
    "\n",
    "    #FIRST LAYER OF CONVNETS, POOLING, DROPOUT\n",
    "    #  apply a NUM_CONV x NUM_CONF convolution with NUM_FILTERS output\n",
    "    #  for the first layer it is also required to define the input shape\n",
    "    #  activation function is rectified linear \n",
    "    nn.add(Convolution2D(NUM_FILTERS, NUM_CONV, NUM_CONV, \n",
    "    input_shape=(IMG_CHANNELS, SHAPE_X, SHAPE_Y) ))\n",
    "    nn.add(Activation('relu'))\n",
    "    nn.add(Convolution2D(NUM_FILTERS, NUM_CONV, NUM_CONV))\n",
    "    nn.add(Activation('relu'))\n",
    "    nn.add(MaxPooling2D(pool_size = (NUM_POOL, NUM_POOL)))\n",
    "    nn.add(Dropout(DROPOUT_RATE))\n",
    "\n",
    "    #SECOND LAYER OF CONVNETS, POOLING, DROPOUT \n",
    "    #  apply a NUM_CONV x NUM_CONF convolution with NUM_FILTERS output\n",
    "    nn.add(Convolution2D( NUM_FILTERS, NUM_CONV, NUM_CONV))\n",
    "    nn.add(Activation('relu'))\n",
    "    nn.add(Convolution2D(NUM_FILTERS, NUM_CONV, NUM_CONV))\n",
    "    nn.add(Activation('relu'))\n",
    "    nn.add(MaxPooling2D(pool_size = (NUM_POOL, NUM_POOL) ))\n",
    "    nn.add(Dropout(DROPOUT_RATE))\n",
    "\n",
    "    # FLATTEN the shape for dense connections \n",
    "    nn.add(Flatten())\n",
    "\n",
    "    # FIRST HIDDEN LAYER OF DENSE NETWORK\n",
    "    nn.add(Dense(NUM_HIDDEN))  \n",
    "    nn.add(Activation('relu'))\n",
    "    nn.add(Dropout(DROPOUT_RATE))          \n",
    "\n",
    "    # OUTFUT LAYER with NUM_CLASSES OUTPUTS\n",
    "    # ACTIVATION IS SOFTMAX, REGULARIZATION IS L2\n",
    "    nn.add(Dense(NUM_CLASSES, W_regularizer=l2(0.01) ))\n",
    "    nn.add(Activation('softmax') )\n",
    "\n",
    "    #summary\n",
    "    nn.summary()\n",
    "    #plot the model\n",
    "    plot(nn)\n",
    "\n",
    "    # set an early-stopping value\n",
    "    early_stopping = EarlyStopping(monitor='val_loss', patience=2)\n",
    "\n",
    "    # COMPILE THE MODEL\n",
    "    #   loss_function is categorical_crossentropy\n",
    "    #   optimizer is parametric\n",
    "    nn.compile(loss='categorical_crossentropy', \n",
    "    optimizer=OPTIMIZER, metrics=[\"accuracy\"])\n",
    "\n",
    "    start = time.time()\n",
    "    # FIT THE MODEL WITH VALIDATION DATA\n",
    "    fitlog = nn.fit(X_train, Y_train, \\\n",
    "    batch_size=BATCH_SIZE, nb_epoch=NUM_EPOCHS, \\\n",
    "    verbose=VERBOSE, validation_split=VALIDATION_SPLIT, \\\n",
    "    callbacks=[early_stopping])\n",
    "    elapsed = time.time() - start\n",
    "\n",
    "    # Test the network\n",
    "    results = nn.evaluate(X_test, Y_test, verbose=VERBOSE)\n",
    "    print('accuracy:', results[1])\n",
    "\n",
    "    # just to get the list of input parameters and their value\n",
    "    frame = inspect.currentframe()\n",
    "    args, _, _, values = inspect.getargvalues(frame)\n",
    "    # used for printing pretty arguments\n",
    "\n",
    "    print_Graph(fitlog, elapsed, args, values)\n",
    "\n",
    "    return fitlog  "
   ]
  },
  {
   "cell_type": "code",
   "execution_count": 80,
   "metadata": {
    "collapsed": true
   },
   "outputs": [
    {
     "name": "stdout",
     "output_type": "stream",
     "text": [
      "X_train shape: (60000, 1, 28, 28)\n",
      "60000 train samples\n",
      "10000 test samples\n",
      "____________________________________________________________________________________________________\n",
      "Layer (type)                     Output Shape          Param #     Connected to                     \n",
      "====================================================================================================\n",
      "convolution2d_17 (Convolution2D) (None, 32, 26, 26)    320         convolution2d_input_6[0][0]      \n",
      "____________________________________________________________________________________________________\n",
      "activation_37 (Activation)       (None, 32, 26, 26)    0           convolution2d_17[0][0]           \n",
      "____________________________________________________________________________________________________\n",
      "convolution2d_18 (Convolution2D) (None, 32, 24, 24)    9248        activation_37[0][0]              \n",
      "____________________________________________________________________________________________________\n",
      "activation_38 (Activation)       (None, 32, 24, 24)    0           convolution2d_18[0][0]           \n",
      "____________________________________________________________________________________________________\n",
      "maxpooling2d_9 (MaxPooling2D)    (None, 32, 12, 12)    0           activation_38[0][0]              \n",
      "____________________________________________________________________________________________________\n",
      "dropout_20 (Dropout)             (None, 32, 12, 12)    0           maxpooling2d_9[0][0]             \n",
      "____________________________________________________________________________________________________\n",
      "convolution2d_19 (Convolution2D) (None, 32, 10, 10)    9248        dropout_20[0][0]                 \n",
      "____________________________________________________________________________________________________\n",
      "activation_39 (Activation)       (None, 32, 10, 10)    0           convolution2d_19[0][0]           \n",
      "____________________________________________________________________________________________________\n",
      "convolution2d_20 (Convolution2D) (None, 32, 8, 8)      9248        activation_39[0][0]              \n",
      "____________________________________________________________________________________________________\n",
      "activation_40 (Activation)       (None, 32, 8, 8)      0           convolution2d_20[0][0]           \n",
      "____________________________________________________________________________________________________\n",
      "maxpooling2d_10 (MaxPooling2D)   (None, 32, 4, 4)      0           activation_40[0][0]              \n",
      "____________________________________________________________________________________________________\n",
      "dropout_21 (Dropout)             (None, 32, 4, 4)      0           maxpooling2d_10[0][0]            \n",
      "____________________________________________________________________________________________________\n",
      "flatten_6 (Flatten)              (None, 512)           0           dropout_21[0][0]                 \n",
      "____________________________________________________________________________________________________\n",
      "dense_21 (Dense)                 (None, 128)           65664       flatten_6[0][0]                  \n",
      "____________________________________________________________________________________________________\n",
      "activation_41 (Activation)       (None, 128)           0           dense_21[0][0]                   \n",
      "____________________________________________________________________________________________________\n",
      "dropout_22 (Dropout)             (None, 128)           0           activation_41[0][0]              \n",
      "____________________________________________________________________________________________________\n",
      "dense_22 (Dense)                 (None, 10)            1290        dropout_22[0][0]                 \n",
      "____________________________________________________________________________________________________\n",
      "activation_42 (Activation)       (None, 10)            0           dense_22[0][0]                   \n",
      "====================================================================================================\n",
      "Total params: 95018\n",
      "____________________________________________________________________________________________________\n",
      "Train on 48000 samples, validate on 12000 samples\n",
      "Epoch 1/12\n",
      "48000/48000 [==============================] - 90s - loss: 1.1416 - acc: 0.6443 - val_loss: 0.1651 - val_acc: 0.9505\n",
      "Epoch 2/12\n",
      "48000/48000 [==============================] - 85s - loss: 0.3998 - acc: 0.8904 - val_loss: 0.1102 - val_acc: 0.9664\n",
      "Epoch 3/12\n",
      "48000/48000 [==============================] - 93s - loss: 0.3056 - acc: 0.9183 - val_loss: 0.0898 - val_acc: 0.9732\n",
      "Epoch 4/12\n",
      "48000/48000 [==============================] - 91s - loss: 0.2536 - acc: 0.9317 - val_loss: 0.0726 - val_acc: 0.9767\n",
      "Epoch 5/12\n",
      "48000/48000 [==============================] - 94s - loss: 0.2271 - acc: 0.9409 - val_loss: 0.0620 - val_acc: 0.9807\n",
      "Epoch 6/12\n",
      "48000/48000 [==============================] - 92s - loss: 0.2062 - acc: 0.9454 - val_loss: 0.0592 - val_acc: 0.9822\n",
      "Epoch 7/12\n",
      "48000/48000 [==============================] - 88s - loss: 0.1934 - acc: 0.9494 - val_loss: 0.0564 - val_acc: 0.9832\n",
      "Epoch 8/12\n",
      "48000/48000 [==============================] - 86s - loss: 0.1765 - acc: 0.9545 - val_loss: 0.0521 - val_acc: 0.9838\n",
      "Epoch 9/12\n",
      "48000/48000 [==============================] - 92s - loss: 0.1690 - acc: 0.9570 - val_loss: 0.0505 - val_acc: 0.9845\n",
      "Epoch 10/12\n",
      "48000/48000 [==============================] - 93s - loss: 0.1643 - acc: 0.9576 - val_loss: 0.0499 - val_acc: 0.9851\n",
      "Epoch 11/12\n",
      "48000/48000 [==============================] - 85s - loss: 0.1596 - acc: 0.9598 - val_loss: 0.0439 - val_acc: 0.9868\n",
      "Epoch 12/12\n",
      "48000/48000 [==============================] - 99s - loss: 0.1462 - acc: 0.9627 - val_loss: 0.0419 - val_acc: 0.9881\n",
      " 9984/10000 [============================>.] - ETA: 0saccuracy: 0.9873\n",
      "CPU times: user 8h 20min 34s, sys: 14min 4s, total: 8h 34min 38s\n",
      "Wall time: 18min 26s\n"
     ]
    },
    {
     "data": {
      "text/plain": [
       "<keras.callbacks.History at 0x7faf635b5390>"
      ]
     },
     "execution_count": 80,
     "metadata": {},
     "output_type": "execute_result"
    },
    {
     "data": {
      "image/png": "[encoded data removed]",
      "text/plain": [
       "<matplotlib.figure.Figure at 0x7faf635b5410>"
      ]
     },
     "metadata": {},
     "output_type": "display_data"
    }
   ],
   "source": [
    "%%time\n",
    "\n",
    "convNet_LeNet(VERBOSE=1, NORMALIZE=True, BATCH_SIZE=128, NUM_EPOCHS=12,\n",
    "                  NUM_FILTERS=32, NUM_POOL=2, NUM_CONV=3, DROPOUT_RATE=0.5,\n",
    "                  NUM_HIDDEN=128, VALIDATION_SPLIT=0.2,\n",
    "                  OPTIMIZER=SGD(lr=0.01,decay=1e-6,\n",
    "                                momentum=0.9,nesterov=True))"
   ]
  },
  {
   "cell_type": "code",
   "execution_count": null,
   "metadata": {
    "collapsed": true
   },
   "outputs": [],
   "source": []
  }
 ],
 "metadata": {
  "kernelspec": {
   "display_name": "Python 2",
   "language": "python",
   "name": "python2"
  },
  "language_info": {
   "codemirror_mode": {
    "name": "ipython",
    "version": 2
   },
   "file_extension": ".py",
   "mimetype": "text/x-python",
   "name": "python",
   "nbconvert_exporter": "python",
   "pygments_lexer": "ipython2",
   "version": "2.7.11"
  }
 },
 "nbformat": 4,
 "nbformat_minor": 0
}
